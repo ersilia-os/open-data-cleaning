{
 "cells": [
  {
   "attachments": {},
   "cell_type": "markdown",
   "metadata": {},
   "source": [
    "# Pathogen Box"
   ]
  },
  {
   "cell_type": "code",
   "execution_count": null,
   "metadata": {},
   "outputs": [],
   "source": [
    "import os\n",
    "import pandas as pd\n",
    "import numpy as np\n",
    "from rdkit import Chem\n",
    "\n",
    "DATAPATH = \"../data\""
   ]
  },
  {
   "cell_type": "code",
   "execution_count": null,
   "metadata": {},
   "outputs": [],
   "source": [
    "xls = pd.ExcelFile(os.path.join(DATAPATH, \"original\", \"Pathogen_Box_Activity_Biological_Data_Smiles.xlsx\"))\n",
    "xls.sheet_names"
   ]
  },
  {
   "cell_type": "code",
   "execution_count": null,
   "metadata": {},
   "outputs": [],
   "source": [
    "df = pd.read_excel(xls, sheet_name=\"MASTER SHEET\")"
   ]
  },
  {
   "cell_type": "code",
   "execution_count": null,
   "metadata": {},
   "outputs": [],
   "source": [
    "df.columns"
   ]
  },
  {
   "cell_type": "code",
   "execution_count": null,
   "metadata": {},
   "outputs": [],
   "source": [
    "df = df[['*Please refer to the individual tabs fo each disease set for more details',\n",
    "        'Unnamed: 4',\n",
    "        'Anti - Mycobacterium tuberculosis activity', \n",
    "        'Antimalarial activity: Asexual Blood Stage',\n",
    "        'Cytotoxicity data*'\n",
    "        ]]\n",
    "df.rename(columns = {\n",
    "    '*Please refer to the individual tabs fo each disease set for more details': \"SMILES\",\n",
    "    'Unnamed: 4': \"indication\",\n",
    "    'Anti - Mycobacterium tuberculosis activity': \"mtb_MIC90\",\n",
    "    'Antimalarial activity: Asexual Blood Stage': \"pf_IC50\",\n",
    "    'Cytotoxicity data*': \"hepg2_CC50\"\n",
    "    }, inplace=True)\n",
    "\n",
    "df.drop(labels=[0, 401, 402], axis = 0, inplace=True)\n",
    "df.dropna(subset=[\"SMILES\"], inplace=True)\n",
    "df.reset_index(drop=True, inplace=True)"
   ]
  },
  {
   "cell_type": "code",
   "execution_count": null,
   "metadata": {},
   "outputs": [],
   "source": [
    "mols = [Chem.MolFromSmiles(smi) for smi in df[\"SMILES\"].tolist()]\n",
    "can_smi = [Chem.MolToSmiles(mol) for mol in mols]\n",
    "df[\"CAN_SMILES\"] = can_smi\n",
    "df = df[[\"SMILES\", \"CAN_SMILES\", \"indication\",\"pf_IC50\", \"mtb_MIC90\", \"hepg2_CC50\"]]"
   ]
  },
  {
   "cell_type": "code",
   "execution_count": null,
   "metadata": {},
   "outputs": [],
   "source": [
    "num_cols = [\"mtb_MIC90\", \"pf_IC50\", \"hepg2_CC50\"]"
   ]
  },
  {
   "cell_type": "code",
   "execution_count": null,
   "metadata": {},
   "outputs": [],
   "source": [
    "df[num_cols] = df[num_cols].replace({\"< \":\"\"}, regex=True)\n",
    "df[num_cols] = df[num_cols].replace({\"<\":\"\"}, regex=True)\n",
    "df[num_cols] = df[num_cols].replace({\"> \":\"\"}, regex=True)\n",
    "df[num_cols] = df[num_cols].replace({\">\":\"\"}, regex=True)"
   ]
  },
  {
   "cell_type": "code",
   "execution_count": null,
   "metadata": {},
   "outputs": [],
   "source": [
    "vals = [x for x in df[\"pf_IC50\"]]\n",
    "for i, v in enumerate(vals):\n",
    "    try:\n",
    "        float(v)\n",
    "    except:\n",
    "        print(i, v)"
   ]
  },
  {
   "cell_type": "code",
   "execution_count": null,
   "metadata": {},
   "outputs": [],
   "source": [
    "import numpy as np\n",
    "df.loc[240][\"pf_IC50\"]=np.nan\n",
    "df.loc[221][\"pf_IC50\"]= 0.1\n",
    "df.loc[222][\"pf_IC50\"]= 0.1\n",
    "df.loc[223][\"pf_IC50\"]= 0.007\n"
   ]
  },
  {
   "cell_type": "code",
   "execution_count": null,
   "metadata": {},
   "outputs": [],
   "source": [
    "df = df.astype({\"SMILES\": \"string\",\n",
    "        \"CAN_SMILES\": \"string\",\n",
    "        \"indication\": \"string\",\n",
    "        \"mtb_MIC90\": \"float\",\n",
    "        \"pf_IC50\":\"float\",\n",
    "        \"hepg2_CC50\":\"float\"\n",
    "        })"
   ]
  },
  {
   "cell_type": "code",
   "execution_count": null,
   "metadata": {},
   "outputs": [],
   "source": [
    "df.dtypes"
   ]
  },
  {
   "cell_type": "code",
   "execution_count": null,
   "metadata": {},
   "outputs": [],
   "source": [
    "df.to_csv(os.path.join(DATAPATH, \"processed\", \"mmv_pathogenbox.csv\"), index=False)"
   ]
  },
  {
   "cell_type": "code",
   "execution_count": null,
   "metadata": {},
   "outputs": [],
   "source": [
    "with open(os.path.join(DATAPATH, \"processed\", \"mmv_pathogenbox_smiles.txt\"), \"w\") as f:\n",
    "    for s in df[\"CAN_SMILES\"].tolist():\n",
    "        f.write(f\"{s}\\n\")"
   ]
  },
  {
   "attachments": {},
   "cell_type": "markdown",
   "metadata": {},
   "source": [
    "# Malaria Box"
   ]
  },
  {
   "cell_type": "code",
   "execution_count": null,
   "metadata": {},
   "outputs": [],
   "source": [
    "xls = pd.ExcelFile(os.path.join(DATAPATH, \"original\", \"MalariaBox400compoundsDec2014.xls\"))\n",
    "xls.sheet_names"
   ]
  },
  {
   "cell_type": "code",
   "execution_count": null,
   "metadata": {},
   "outputs": [],
   "source": [
    "df = pd.read_excel(xls, sheet_name=\"vortex_sheet\")"
   ]
  },
  {
   "cell_type": "code",
   "execution_count": null,
   "metadata": {},
   "outputs": [],
   "source": [
    "df.columns"
   ]
  },
  {
   "cell_type": "code",
   "execution_count": null,
   "metadata": {},
   "outputs": [],
   "source": [
    "df = df[[\"Smiles\", \"EC50_nM\"]]\n",
    "df.rename(columns={\"Smiles\": \"SMILES\", \"EC50_nM\": \"pf_IC50\"}, inplace=True)"
   ]
  },
  {
   "cell_type": "code",
   "execution_count": null,
   "metadata": {},
   "outputs": [],
   "source": [
    "mols = [Chem.MolFromSmiles(smi) for smi in df[\"SMILES\"].tolist()]\n",
    "can_smi = [Chem.MolToSmiles(mol) for mol in mols]\n",
    "df[\"CAN_SMILES\"] = can_smi\n",
    "df = df[[\"SMILES\", \"CAN_SMILES\", \"pf_IC50\"]]"
   ]
  },
  {
   "cell_type": "code",
   "execution_count": null,
   "metadata": {},
   "outputs": [],
   "source": [
    "vals = [x for x in df[\"pf_IC50\"]]\n",
    "nd = []\n",
    "for i, v in enumerate(vals):\n",
    "    try:\n",
    "        float(v)\n",
    "    except:\n",
    "        print(i, v)\n",
    "        nd += [i]"
   ]
  },
  {
   "cell_type": "code",
   "execution_count": null,
   "metadata": {},
   "outputs": [],
   "source": [
    "for i in nd:\n",
    "    df.loc[i][\"pf_IC50\"]=np.nan"
   ]
  },
  {
   "cell_type": "code",
   "execution_count": null,
   "metadata": {},
   "outputs": [],
   "source": [
    "df = df.astype({\"SMILES\": \"string\",\n",
    "        \"CAN_SMILES\": \"string\",\n",
    "        \"pf_IC50\":\"float\",\n",
    "        })\n",
    "df.dtypes"
   ]
  },
  {
   "cell_type": "code",
   "execution_count": null,
   "metadata": {},
   "outputs": [],
   "source": [
    "df[\"pf_IC50\"] = df[\"pf_IC50\"].apply(lambda x: x*0.001)"
   ]
  },
  {
   "cell_type": "code",
   "execution_count": null,
   "metadata": {},
   "outputs": [],
   "source": [
    "df.to_csv(os.path.join(DATAPATH, \"processed\", \"mmv_malariabox.csv\"), index=False)"
   ]
  },
  {
   "cell_type": "code",
   "execution_count": null,
   "metadata": {},
   "outputs": [],
   "source": [
    "with open(os.path.join(DATAPATH, \"processed\", \"mmv_malariabox_smiles.txt\"), \"w\") as f:\n",
    "    for s in df[\"CAN_SMILES\"].tolist():\n",
    "        f.write(f\"{s}\\n\")"
   ]
  },
  {
   "attachments": {},
   "cell_type": "markdown",
   "metadata": {},
   "source": [
    "# OSM Data"
   ]
  },
  {
   "cell_type": "code",
   "execution_count": null,
   "metadata": {},
   "outputs": [],
   "source": [
    "df = pd.read_csv(os.path.join(DATAPATH,\"original\", \"osm_series4.csv\"))"
   ]
  },
  {
   "cell_type": "code",
   "execution_count": null,
   "metadata": {},
   "outputs": [],
   "source": [
    "df.rename(columns={\"osm\":\"ID\", \"smiles\":\"SMILES\", \"activity\": \"pf_IC50\"}, inplace=True)"
   ]
  },
  {
   "cell_type": "code",
   "execution_count": null,
   "metadata": {},
   "outputs": [],
   "source": [
    "mols = [Chem.MolFromSmiles(smi) for smi in df[\"SMILES\"].tolist()]\n",
    "can_smi = [Chem.MolToSmiles(mol) for mol in mols]\n",
    "df[\"CAN_SMILES\"] = can_smi\n",
    "df = df[[\"ID\", \"SMILES\", \"CAN_SMILES\", \"pf_IC50\"]]"
   ]
  },
  {
   "cell_type": "code",
   "execution_count": null,
   "metadata": {},
   "outputs": [],
   "source": [
    "df.to_csv(os.path.join(DATAPATH, \"processed\", \"osm_series4.csv\"), index=False)"
   ]
  },
  {
   "cell_type": "code",
   "execution_count": null,
   "metadata": {},
   "outputs": [],
   "source": [
    "with open(os.path.join(DATAPATH, \"processed\", \"osm_series4_smiles.txt\"), \"w\") as f:\n",
    "    for s in df[\"CAN_SMILES\"].tolist():\n",
    "        f.write(f\"{s}\\n\")"
   ]
  }
 ],
 "metadata": {
  "kernelspec": {
   "display_name": "Python 3.7.11 ('h3d')",
   "language": "python",
   "name": "python3"
  },
  "language_info": {
   "codemirror_mode": {
    "name": "ipython",
    "version": 3
   },
   "file_extension": ".py",
   "mimetype": "text/x-python",
   "name": "python",
   "nbconvert_exporter": "python",
   "pygments_lexer": "ipython3",
   "version": "3.7.11"
  },
  "orig_nbformat": 4,
  "vscode": {
   "interpreter": {
    "hash": "78289bfacd606ea02653e57fbb9ed8ca4308fa34c0d5dd632243a1b1e16e323f"
   }
  }
 },
 "nbformat": 4,
 "nbformat_minor": 2
}
