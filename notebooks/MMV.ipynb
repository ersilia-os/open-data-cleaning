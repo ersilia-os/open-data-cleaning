{
 "cells": [
  {
   "cell_type": "markdown",
   "metadata": {},
   "source": [
    "# Pathogen Box"
   ]
  },
  {
   "cell_type": "code",
   "execution_count": 20,
   "metadata": {},
   "outputs": [],
   "source": [
    "import os\n",
    "import pandas as pd\n",
    "import numpy as np\n",
    "from rdkit import Chem\n",
    "\n",
    "DATAPATH = \"../data\""
   ]
  },
  {
   "cell_type": "code",
   "execution_count": 45,
   "metadata": {},
   "outputs": [
    {
     "data": {
      "text/plain": [
       "['TUBERCULOSIS',\n",
       " 'MALARIA',\n",
       " 'KINETOPLASTIDS',\n",
       " 'CRYPTOSPORIDIOSIS',\n",
       " 'L. FILARIASIS-ONCHOCERCIASIS',\n",
       " 'WOLBACHIA (LF)',\n",
       " 'SCHISTOSOMIASIS',\n",
       " 'HOOKWORM-TRICHURIASIS',\n",
       " 'TOXOPLASMOSIS',\n",
       " 'DENGUE-CHIKUNGUNYA',\n",
       " 'REFERENCE COMPOUNDS',\n",
       " 'MASTER SHEET',\n",
       " 'in vitro DMPK',\n",
       " 'in vivo DMPK',\n",
       " 'ESRI_MAPINFO_SHEET']"
      ]
     },
     "execution_count": 45,
     "metadata": {},
     "output_type": "execute_result"
    }
   ],
   "source": [
    "xls = pd.ExcelFile(os.path.join(DATAPATH, \"original\", \"Pathogen_Box_Activity_Biological_Data_Smiles.xlsx\"))\n",
    "xls.sheet_names"
   ]
  },
  {
   "cell_type": "code",
   "execution_count": 46,
   "metadata": {},
   "outputs": [],
   "source": [
    "df = pd.read_excel(xls, sheet_name=\"MASTER SHEET\")"
   ]
  },
  {
   "cell_type": "code",
   "execution_count": 47,
   "metadata": {},
   "outputs": [
    {
     "data": {
      "text/plain": [
       "Index(['*Please refer to the individual tabs fo each disease set for more details',\n",
       "       'Note: empty cell = \"not tested\"', 'Unnamed: 2', 'Unnamed: 3',\n",
       "       'Unnamed: 4', 'Anti - Mycobacterium tuberculosis activity',\n",
       "       'Unnamed: 6', 'Unnamed: 7', 'Unnamed: 8', 'Unnamed: 9', 'Unnamed: 10',\n",
       "       'Unnamed: 11', 'Unnamed: 12', 'Unnamed: 13', 'Unnamed: 14',\n",
       "       'Unnamed: 15', 'Unnamed: 16', 'Unnamed: 17', 'Unnamed: 18',\n",
       "       'Unnamed: 19', 'Unnamed: 20', 'Unnamed: 21',\n",
       "       'Antimalarial activity: Asexual Blood Stage', 'Unnamed: 23',\n",
       "       'Unnamed: 24', 'Antimalarial activity: Liver Stage', 'Unnamed: 26',\n",
       "       'Antimalarial activity: Gametocytes', 'Unnamed: 28',\n",
       "       'Anti - Trypanosoma cruzi activity',\n",
       "       'Anti - Trypanosoma brucei activity', 'Unnamed: 31',\n",
       "       'Anti - Leishmania activity', 'Unnamed: 33', 'Unnamed: 34',\n",
       "       'Unnamed: 35', 'Unnamed: 36', 'Anti - Cryptosporidium parvum activity',\n",
       "       'Unnamed: 38', 'Anti - Brugia pahangi activity', 'Unnamed: 40',\n",
       "       'Anti - Brugia malayi activity', 'Anti - Onchocerca activity',\n",
       "       'Unnamed: 43', 'Unnamed: 44', 'Unnamed: 45', 'Unnamed: 46',\n",
       "       'Unnamed: 47', 'Unnamed: 48', 'Unnamed: 49', 'Unnamed: 50',\n",
       "       'Anti-Wolbachia activity', 'Anti - Schistosoma mansoni activity',\n",
       "       'Unnamed: 53', 'Unnamed: 54', 'Unnamed: 55', 'Unnamed: 56',\n",
       "       'Unnamed: 57', 'Anti - Ancylostoma ceylanicum activity',\n",
       "       'Anti - Trichuris muris activity',\n",
       "       'Anti - Toxoplasma gondii activity data', 'Unnamed: 61', 'Unnamed: 62',\n",
       "       'Unnamed: 63', 'Unnamed: 64', 'Unnamed: 65', 'Unnamed: 66',\n",
       "       'Anti - Dengue activity', 'Unnamed: 68', 'Unnamed: 69', 'Unnamed: 70',\n",
       "       'Unnamed: 71', 'Anti - Chikungunya activity', 'Cytotoxicity data*',\n",
       "       '*For additional cytotoxicity data, please see the individual tabs for each disease set'],\n",
       "      dtype='object')"
      ]
     },
     "execution_count": 47,
     "metadata": {},
     "output_type": "execute_result"
    }
   ],
   "source": [
    "df.columns"
   ]
  },
  {
   "cell_type": "code",
   "execution_count": 48,
   "metadata": {},
   "outputs": [],
   "source": [
    "df = df[['*Please refer to the individual tabs fo each disease set for more details',\n",
    "        'Unnamed: 4',\n",
    "        'Anti - Mycobacterium tuberculosis activity', \n",
    "        'Antimalarial activity: Asexual Blood Stage',\n",
    "        'Cytotoxicity data*'\n",
    "        ]]\n",
    "df.rename(columns = {\n",
    "    '*Please refer to the individual tabs fo each disease set for more details': \"SMILES\",\n",
    "    'Unnamed: 4': \"indication\",\n",
    "    'Anti - Mycobacterium tuberculosis activity': \"mtb_MIC90\",\n",
    "    'Antimalarial activity: Asexual Blood Stage': \"pf_IC50\",\n",
    "    'Cytotoxicity data*': \"hepg2_CC50\"\n",
    "    }, inplace=True)\n",
    "\n",
    "df.drop(labels=[0, 401, 402], axis = 0, inplace=True)\n",
    "df.dropna(subset=[\"SMILES\"], inplace=True)\n",
    "df.reset_index(drop=True, inplace=True)"
   ]
  },
  {
   "cell_type": "code",
   "execution_count": 49,
   "metadata": {},
   "outputs": [],
   "source": [
    "mols = [Chem.MolFromSmiles(smi) for smi in df[\"SMILES\"].tolist()]\n",
    "can_smi = [Chem.MolToSmiles(mol) for mol in mols]\n",
    "df[\"CAN_SMILES\"] = can_smi\n",
    "df = df[[\"SMILES\", \"CAN_SMILES\", \"indication\",\"pf_IC50\", \"mtb_MIC90\", \"hepg2_CC50\"]]"
   ]
  },
  {
   "cell_type": "code",
   "execution_count": 50,
   "metadata": {},
   "outputs": [],
   "source": [
    "num_cols = [\"mtb_MIC90\", \"pf_IC50\", \"hepg2_CC50\"]"
   ]
  },
  {
   "cell_type": "code",
   "execution_count": 51,
   "metadata": {},
   "outputs": [],
   "source": [
    "df[num_cols] = df[num_cols].replace({\"< \":\"\"}, regex=True)\n",
    "df[num_cols] = df[num_cols].replace({\"<\":\"\"}, regex=True)\n",
    "df[num_cols] = df[num_cols].replace({\"> \":\"\"}, regex=True)\n",
    "df[num_cols] = df[num_cols].replace({\">\":\"\"}, regex=True)"
   ]
  },
  {
   "cell_type": "code",
   "execution_count": 52,
   "metadata": {},
   "outputs": [
    {
     "name": "stdout",
     "output_type": "stream",
     "text": [
      "221 0.1 (2009 data)\n",
      "222 0.1 (2011 data)\n",
      "223 0.007 (2012 data)\n",
      "240 Inactive (please see the malaria disease sheet for more details) \n"
     ]
    }
   ],
   "source": [
    "vals = [x for x in df[\"pf_IC50\"]]\n",
    "for i, v in enumerate(vals):\n",
    "    try:\n",
    "        float(v)\n",
    "    except:\n",
    "        print(i, v)"
   ]
  },
  {
   "cell_type": "code",
   "execution_count": 53,
   "metadata": {},
   "outputs": [],
   "source": [
    "import numpy as np\n",
    "df.loc[240][\"pf_IC50\"]=np.nan\n",
    "df.loc[221][\"pf_IC50\"]= 0.1\n",
    "df.loc[222][\"pf_IC50\"]= 0.1\n",
    "df.loc[223][\"pf_IC50\"]= 0.007\n"
   ]
  },
  {
   "cell_type": "code",
   "execution_count": 54,
   "metadata": {},
   "outputs": [],
   "source": [
    "df = df.astype({\"SMILES\": \"string\",\n",
    "        \"CAN_SMILES\": \"string\",\n",
    "        \"indication\": \"string\",\n",
    "        \"mtb_MIC90\": \"float\",\n",
    "        \"pf_IC50\":\"float\",\n",
    "        \"hepg2_CC50\":\"float\"\n",
    "        })"
   ]
  },
  {
   "cell_type": "code",
   "execution_count": 55,
   "metadata": {},
   "outputs": [
    {
     "data": {
      "text/plain": [
       "SMILES         string\n",
       "CAN_SMILES     string\n",
       "indication     string\n",
       "pf_IC50       float64\n",
       "mtb_MIC90     float64\n",
       "hepg2_CC50    float64\n",
       "dtype: object"
      ]
     },
     "execution_count": 55,
     "metadata": {},
     "output_type": "execute_result"
    }
   ],
   "source": [
    "df.dtypes"
   ]
  },
  {
   "cell_type": "code",
   "execution_count": 56,
   "metadata": {},
   "outputs": [],
   "source": [
    "df.to_csv(os.path.join(DATAPATH, \"processed\", \"mmv_pathogenbox.csv\"), index=False)"
   ]
  },
  {
   "cell_type": "code",
   "execution_count": 57,
   "metadata": {},
   "outputs": [],
   "source": [
    "with open(os.path.join(DATAPATH, \"processed\", \"mmv_pathogenbox_smiles.txt\"), \"w\") as f:\n",
    "    for s in df[\"CAN_SMILES\"].tolist():\n",
    "        f.write(f\"{s}\\n\")"
   ]
  },
  {
   "cell_type": "markdown",
   "metadata": {},
   "source": [
    "# Malaria Box"
   ]
  },
  {
   "cell_type": "code",
   "execution_count": 58,
   "metadata": {},
   "outputs": [
    {
     "data": {
      "text/plain": [
       "['vortex_sheet']"
      ]
     },
     "execution_count": 58,
     "metadata": {},
     "output_type": "execute_result"
    }
   ],
   "source": [
    "xls = pd.ExcelFile(os.path.join(DATAPATH, \"original\", \"MalariaBox400compoundsDec2014.xls\"))\n",
    "xls.sheet_names"
   ]
  },
  {
   "cell_type": "code",
   "execution_count": 59,
   "metadata": {},
   "outputs": [],
   "source": [
    "df = pd.read_excel(xls, sheet_name=\"vortex_sheet\")"
   ]
  },
  {
   "cell_type": "code",
   "execution_count": 60,
   "metadata": {},
   "outputs": [
    {
     "data": {
      "text/plain": [
       "Index(['HEOS_COMPOUND_ID', 'Batch_No_March2012', 'Batch_No_June2012',\n",
       "       'Batch_No_April2013', 'Smiles', 'percent_inh @ 2 uM',\n",
       "       'percent_inh @ 5 uM', 'EC50_nM', 'ChEMBL_NTD_ID', 'source',\n",
       "       'CHEMBL EC50 in uM', 'Set', 'Ro5_ViolationCount', 'NplusO_Count',\n",
       "       'Molecular_Weight', 'Num_H_Donors', 'ALogP', 'Comment'],\n",
       "      dtype='object')"
      ]
     },
     "execution_count": 60,
     "metadata": {},
     "output_type": "execute_result"
    }
   ],
   "source": [
    "df.columns"
   ]
  },
  {
   "cell_type": "code",
   "execution_count": 61,
   "metadata": {},
   "outputs": [],
   "source": [
    "df = df[[\"Smiles\", \"EC50_nM\"]]\n",
    "df.rename(columns={\"Smiles\": \"SMILES\", \"EC50_nM\": \"pf_IC50\"}, inplace=True)"
   ]
  },
  {
   "cell_type": "code",
   "execution_count": 62,
   "metadata": {},
   "outputs": [],
   "source": [
    "mols = [Chem.MolFromSmiles(smi) for smi in df[\"SMILES\"].tolist()]\n",
    "can_smi = [Chem.MolToSmiles(mol) for mol in mols]\n",
    "df[\"CAN_SMILES\"] = can_smi\n",
    "df = df[[\"SMILES\", \"CAN_SMILES\", \"pf_IC50\"]]"
   ]
  },
  {
   "cell_type": "code",
   "execution_count": 63,
   "metadata": {},
   "outputs": [
    {
     "name": "stdout",
     "output_type": "stream",
     "text": [
      "83 ND\n",
      "86 ND\n",
      "88 ND\n",
      "89 ND\n",
      "93 ND\n",
      "95 ND\n",
      "99 ND\n",
      "100 ND\n",
      "103 ND\n",
      "105 ND\n",
      "106 ND\n",
      "107 ND\n",
      "109 ND\n",
      "111 ND\n",
      "112 ND\n",
      "114 ND\n",
      "116 ND\n",
      "117 ND\n",
      "119 ND\n",
      "121 ND\n",
      "122 ND\n",
      "124 ND\n",
      "125 ND\n",
      "126 ND\n",
      "131 ND\n",
      "138 ND\n",
      "139 ND\n",
      "141 ND\n",
      "143 ND\n",
      "151 ND\n",
      "152 ND\n",
      "153 ND\n",
      "157 ND\n",
      "158 ND\n",
      "174 ND\n",
      "186 ND\n",
      "187 ND\n",
      "195 ND\n",
      "204 ND\n",
      "206 ND\n",
      "207 ND\n",
      "208 ND\n",
      "209 ND\n",
      "220 ND\n",
      "224 ND\n",
      "225 ND\n",
      "228 ND\n",
      "229 ND\n",
      "233 ND\n",
      "235 ND\n",
      "237 ND\n",
      "239 ND\n",
      "240 ND\n",
      "244 ND\n",
      "248 ND\n",
      "250 ND\n",
      "253 ND\n",
      "258 ND\n",
      "259 ND\n",
      "260 ND\n",
      "261 ND\n",
      "262 ND\n",
      "267 ND\n",
      "296 ND\n",
      "299 ND\n",
      "303 ND\n",
      "305 ND\n",
      "309 ND\n",
      "310 ND\n",
      "312 ND\n",
      "315 ND\n",
      "320 ND\n",
      "326 ND\n",
      "346 ND\n",
      "358 ND\n",
      "361 ND\n",
      "365 ND\n",
      "373 ND\n",
      "397 ND\n",
      "398 ND\n"
     ]
    }
   ],
   "source": [
    "vals = [x for x in df[\"pf_IC50\"]]\n",
    "nd = []\n",
    "for i, v in enumerate(vals):\n",
    "    try:\n",
    "        float(v)\n",
    "    except:\n",
    "        print(i, v)\n",
    "        nd += [i]"
   ]
  },
  {
   "cell_type": "code",
   "execution_count": 64,
   "metadata": {},
   "outputs": [],
   "source": [
    "for i in nd:\n",
    "    df.loc[i][\"pf_IC50\"]=np.nan"
   ]
  },
  {
   "cell_type": "code",
   "execution_count": 65,
   "metadata": {},
   "outputs": [
    {
     "data": {
      "text/plain": [
       "SMILES         string\n",
       "CAN_SMILES     string\n",
       "pf_IC50       float64\n",
       "dtype: object"
      ]
     },
     "execution_count": 65,
     "metadata": {},
     "output_type": "execute_result"
    }
   ],
   "source": [
    "df = df.astype({\"SMILES\": \"string\",\n",
    "        \"CAN_SMILES\": \"string\",\n",
    "        \"pf_IC50\":\"float\",\n",
    "        })\n",
    "df.dtypes"
   ]
  },
  {
   "cell_type": "code",
   "execution_count": 66,
   "metadata": {},
   "outputs": [],
   "source": [
    "df[\"pf_IC50\"] = df[\"pf_IC50\"].apply(lambda x: x*0.001)"
   ]
  },
  {
   "cell_type": "code",
   "execution_count": 67,
   "metadata": {},
   "outputs": [],
   "source": [
    "df.to_csv(os.path.join(DATAPATH, \"processed\", \"mmv_malariabox.csv\"), index=False)"
   ]
  },
  {
   "cell_type": "code",
   "execution_count": 68,
   "metadata": {},
   "outputs": [],
   "source": [
    "with open(os.path.join(DATAPATH, \"processed\", \"mmv_malariabox_smiles.txt\"), \"w\") as f:\n",
    "    for s in df[\"CAN_SMILES\"].tolist():\n",
    "        f.write(f\"{s}\\n\")"
   ]
  },
  {
   "cell_type": "markdown",
   "metadata": {},
   "source": [
    "# OSM Data"
   ]
  },
  {
   "cell_type": "code",
   "execution_count": 73,
   "metadata": {},
   "outputs": [],
   "source": [
    "df = pd.read_csv(os.path.join(DATAPATH,\"original\", \"osm_series4.csv\"))"
   ]
  },
  {
   "cell_type": "code",
   "execution_count": 74,
   "metadata": {},
   "outputs": [],
   "source": [
    "df.rename(columns={\"osm\":\"ID\", \"smiles\":\"SMILES\", \"activity\": \"pf_IC50\"}, inplace=True)"
   ]
  },
  {
   "cell_type": "code",
   "execution_count": 77,
   "metadata": {},
   "outputs": [],
   "source": [
    "mols = [Chem.MolFromSmiles(smi) for smi in df[\"SMILES\"].tolist()]\n",
    "can_smi = [Chem.MolToSmiles(mol) for mol in mols]\n",
    "df[\"CAN_SMILES\"] = can_smi\n",
    "df = df[[\"ID\", \"SMILES\", \"CAN_SMILES\", \"pf_IC50\"]]"
   ]
  },
  {
   "cell_type": "code",
   "execution_count": 80,
   "metadata": {},
   "outputs": [],
   "source": [
    "df.to_csv(os.path.join(DATAPATH, \"processed\", \"osm_series4.csv\"), index=False)"
   ]
  },
  {
   "cell_type": "code",
   "execution_count": 81,
   "metadata": {},
   "outputs": [],
   "source": [
    "with open(os.path.join(DATAPATH, \"processed\", \"osm_series4_smiles.txt\"), \"w\") as f:\n",
    "    for s in df[\"CAN_SMILES\"].tolist():\n",
    "        f.write(f\"{s}\\n\")"
   ]
  }
 ],
 "metadata": {
  "kernelspec": {
   "display_name": "Python 3.7.11 ('h3d')",
   "language": "python",
   "name": "python3"
  },
  "language_info": {
   "codemirror_mode": {
    "name": "ipython",
    "version": 3
   },
   "file_extension": ".py",
   "mimetype": "text/x-python",
   "name": "python",
   "nbconvert_exporter": "python",
   "pygments_lexer": "ipython3",
   "version": "3.7.11"
  },
  "orig_nbformat": 4,
  "vscode": {
   "interpreter": {
    "hash": "78289bfacd606ea02653e57fbb9ed8ca4308fa34c0d5dd632243a1b1e16e323f"
   }
  }
 },
 "nbformat": 4,
 "nbformat_minor": 2
}
