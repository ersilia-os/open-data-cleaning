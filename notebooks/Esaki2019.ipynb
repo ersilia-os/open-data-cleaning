{
 "cells": [
  {
   "cell_type": "markdown",
   "id": "15a035f4",
   "metadata": {},
   "source": [
    "# Preparation of Dataset from Esaki et al, 2019 Mol Inform"
   ]
  },
  {
   "cell_type": "code",
   "execution_count": 1,
   "id": "6efeede9",
   "metadata": {},
   "outputs": [],
   "source": [
    "import pandas as pd\n",
    "import numpy as np\n",
    "from tqdm import tqdm\n",
    "import os\n",
    "\n",
    "DATAPATH = \"../data\""
   ]
  },
  {
   "cell_type": "code",
   "execution_count": 12,
   "id": "b8311937",
   "metadata": {},
   "outputs": [
    {
     "name": "stderr",
     "output_type": "stream",
     "text": [
      "5278it [00:05, 1046.17it/s]\n"
     ]
    }
   ],
   "source": [
    "from rdkit.Chem import SDMolSupplier\n",
    "from rdkit import Chem\n",
    "\n",
    "path = os.path.join(DATAPATH, \"original\", \"esaki2019.sdf\")\n",
    "suppl = SDMolSupplier(path)\n",
    "R = []\n",
    "\n",
    "cols = [\"ChEMBL ID\", \"Compound name\", \"Dataset\", \"Observed\", \"Predicted\"]\n",
    "for i, mol in tqdm(enumerate(suppl)):\n",
    "    if mol is None: continue\n",
    "    props = mol.GetPropsAsDict()\n",
    "    r = [props[c] for c in cols] + [Chem.MolToSmiles(mol)]\n",
    "    R += [r]\n",
    "df= pd.DataFrame(R, columns = cols+[\"smiles\"])"
   ]
  },
  {
   "cell_type": "code",
   "execution_count": 22,
   "id": "59df8c00",
   "metadata": {},
   "outputs": [],
   "source": [
    "clf = []\n",
    "for o in df[\"Observed\"].tolist():\n",
    "    if o == \"Stable\":\n",
    "        c = 1\n",
    "    else:\n",
    "        c = 0\n",
    "    clf.append(c)\n",
    "df[\"obs\"]=clf"
   ]
  },
  {
   "cell_type": "code",
   "execution_count": 23,
   "id": "da73eabb",
   "metadata": {},
   "outputs": [
    {
     "data": {
      "text/html": [
       "<div>\n",
       "<style scoped>\n",
       "    .dataframe tbody tr th:only-of-type {\n",
       "        vertical-align: middle;\n",
       "    }\n",
       "\n",
       "    .dataframe tbody tr th {\n",
       "        vertical-align: top;\n",
       "    }\n",
       "\n",
       "    .dataframe thead th {\n",
       "        text-align: right;\n",
       "    }\n",
       "</style>\n",
       "<table border=\"1\" class=\"dataframe\">\n",
       "  <thead>\n",
       "    <tr style=\"text-align: right;\">\n",
       "      <th></th>\n",
       "      <th>ChEMBL ID</th>\n",
       "      <th>Compound name</th>\n",
       "      <th>Dataset</th>\n",
       "      <th>Observed</th>\n",
       "      <th>Predicted</th>\n",
       "      <th>smiles</th>\n",
       "      <th>clf</th>\n",
       "      <th>obs</th>\n",
       "    </tr>\n",
       "  </thead>\n",
       "  <tbody>\n",
       "    <tr>\n",
       "      <th>0</th>\n",
       "      <td>CHEMBL503643</td>\n",
       "      <td></td>\n",
       "      <td>Test</td>\n",
       "      <td>Stable</td>\n",
       "      <td>Stable</td>\n",
       "      <td>CCOC(=O)c1cc2cc(C(=O)O)ccc2[nH]1</td>\n",
       "      <td>1</td>\n",
       "      <td>1</td>\n",
       "    </tr>\n",
       "    <tr>\n",
       "      <th>1</th>\n",
       "      <td>CHEMBL501315</td>\n",
       "      <td></td>\n",
       "      <td>Training</td>\n",
       "      <td>Unstable</td>\n",
       "      <td>Unstable</td>\n",
       "      <td>COc1cccc(CCN(Cc2ccccc2-c2ccc(CN3C[C@H](C)N[C@H...</td>\n",
       "      <td>0</td>\n",
       "      <td>0</td>\n",
       "    </tr>\n",
       "    <tr>\n",
       "      <th>2</th>\n",
       "      <td>CHEMBL1163186</td>\n",
       "      <td></td>\n",
       "      <td>Training</td>\n",
       "      <td>Stable</td>\n",
       "      <td>Stable</td>\n",
       "      <td>CCN(C(=O)NCc1ccc(S(C)(=O)=O)cc1)C1CCN(CCC(c2cc...</td>\n",
       "      <td>1</td>\n",
       "      <td>1</td>\n",
       "    </tr>\n",
       "    <tr>\n",
       "      <th>3</th>\n",
       "      <td>CHEMBL1084953</td>\n",
       "      <td></td>\n",
       "      <td>Test</td>\n",
       "      <td>Stable</td>\n",
       "      <td>Stable</td>\n",
       "      <td>CN(C)CCCC(C)(C)c1ccc(C(C)(C)C)cc1</td>\n",
       "      <td>1</td>\n",
       "      <td>1</td>\n",
       "    </tr>\n",
       "    <tr>\n",
       "      <th>4</th>\n",
       "      <td>CHEMBL1085225</td>\n",
       "      <td></td>\n",
       "      <td>Training</td>\n",
       "      <td>Moderate</td>\n",
       "      <td>Moderate</td>\n",
       "      <td>Cc1cc(C#N)nc(C)c1C(=O)N1CCC(C)(N2CCC(N3C(=O)N(...</td>\n",
       "      <td>0</td>\n",
       "      <td>0</td>\n",
       "    </tr>\n",
       "  </tbody>\n",
       "</table>\n",
       "</div>"
      ],
      "text/plain": [
       "       ChEMBL ID Compound name   Dataset  Observed Predicted  \\\n",
       "0   CHEMBL503643                    Test    Stable    Stable   \n",
       "1   CHEMBL501315                Training  Unstable  Unstable   \n",
       "2  CHEMBL1163186                Training    Stable    Stable   \n",
       "3  CHEMBL1084953                    Test    Stable    Stable   \n",
       "4  CHEMBL1085225                Training  Moderate  Moderate   \n",
       "\n",
       "                                              smiles  clf  obs  \n",
       "0                   CCOC(=O)c1cc2cc(C(=O)O)ccc2[nH]1    1    1  \n",
       "1  COc1cccc(CCN(Cc2ccccc2-c2ccc(CN3C[C@H](C)N[C@H...    0    0  \n",
       "2  CCN(C(=O)NCc1ccc(S(C)(=O)=O)cc1)C1CCN(CCC(c2cc...    1    1  \n",
       "3                  CN(C)CCCC(C)(C)c1ccc(C(C)(C)C)cc1    1    1  \n",
       "4  Cc1cc(C#N)nc(C)c1C(=O)N1CCC(C)(N2CCC(N3C(=O)N(...    0    0  "
      ]
     },
     "execution_count": 23,
     "metadata": {},
     "output_type": "execute_result"
    }
   ],
   "source": [
    "df.head()"
   ]
  },
  {
   "cell_type": "code",
   "execution_count": 30,
   "id": "a6eeeefd",
   "metadata": {},
   "outputs": [],
   "source": [
    "df.rename(columns={\"ChEMBL ID\": \"ChEMBL_ID\"}, inplace=True)"
   ]
  },
  {
   "cell_type": "code",
   "execution_count": 32,
   "id": "d805eac0",
   "metadata": {},
   "outputs": [
    {
     "name": "stdout",
     "output_type": "stream",
     "text": [
      "0\n"
     ]
    }
   ],
   "source": [
    "#check invalid smiles\n",
    "\n",
    "def invalid_mols(data, smi_col):\n",
    "    smiles = data[smi_col].tolist()\n",
    "    mols = [Chem.MolFromSmiles(smi) for smi in smiles]\n",
    "    pre = len(data)\n",
    "    for i, mol in enumerate(mols):\n",
    "        if mol is None:\n",
    "            smi=smiles[i]\n",
    "            data.drop(index = i, inplace = True)\n",
    "    post= len(data)\n",
    "    print(str(pre-post))\n",
    "    return data\n",
    "\n",
    "df = invalid_mols(df, \"smiles\")"
   ]
  },
  {
   "cell_type": "code",
   "execution_count": 34,
   "id": "0b0cda39",
   "metadata": {},
   "outputs": [],
   "source": [
    "df[[\"ChEMBL_ID\", \"smiles\", \"obs\"]].to_csv(os.path.join(DATAPATH, \"processed\", \"esaki2021.csv\"), index=False)"
   ]
  }
 ],
 "metadata": {
  "kernelspec": {
   "display_name": "Python 3.7.11 ('chemistry')",
   "language": "python",
   "name": "python3"
  },
  "language_info": {
   "codemirror_mode": {
    "name": "ipython",
    "version": 3
   },
   "file_extension": ".py",
   "mimetype": "text/x-python",
   "name": "python",
   "nbconvert_exporter": "python",
   "pygments_lexer": "ipython3",
   "version": "3.7.11"
  },
  "vscode": {
   "interpreter": {
    "hash": "a5ba2f1452682855ccf4135cb16ab3fe285c3388d1e3e2e119f7a866d80e2677"
   }
  }
 },
 "nbformat": 4,
 "nbformat_minor": 5
}
