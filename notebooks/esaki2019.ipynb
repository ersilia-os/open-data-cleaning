{
 "cells": [
  {
   "attachments": {},
   "cell_type": "markdown",
   "id": "15a035f4",
   "metadata": {},
   "source": [
    "# Preparation of Dataset from Esaki et al, 2019 Mol Inform"
   ]
  },
  {
   "cell_type": "code",
   "execution_count": null,
   "id": "6efeede9",
   "metadata": {},
   "outputs": [],
   "source": [
    "import pandas as pd\n",
    "import numpy as np\n",
    "from tqdm import tqdm\n",
    "import os\n",
    "\n",
    "DATAPATH = \"../data/esaki2019\""
   ]
  },
  {
   "cell_type": "code",
   "execution_count": null,
   "id": "b8311937",
   "metadata": {},
   "outputs": [],
   "source": [
    "from rdkit.Chem import SDMolSupplier\n",
    "from rdkit import Chem\n",
    "\n",
    "path = os.path.join(DATAPATH, \"esaki2019.sdf\")\n",
    "suppl = SDMolSupplier(path)\n",
    "R = []\n",
    "\n",
    "cols = [\"ChEMBL ID\", \"Compound name\", \"Dataset\", \"Observed\", \"Predicted\"]\n",
    "for i, mol in tqdm(enumerate(suppl)):\n",
    "    if mol is None: continue\n",
    "    props = mol.GetPropsAsDict()\n",
    "    r = [props[c] for c in cols] + [Chem.MolToSmiles(mol)]\n",
    "    R += [r]\n",
    "df= pd.DataFrame(R, columns = cols+[\"smiles\"])"
   ]
  },
  {
   "cell_type": "code",
   "execution_count": null,
   "id": "59df8c00",
   "metadata": {},
   "outputs": [],
   "source": [
    "clf = []\n",
    "for o in df[\"Observed\"].tolist():\n",
    "    if o == \"Stable\":\n",
    "        c = 1\n",
    "    else:\n",
    "        c = 0\n",
    "    clf.append(c)\n",
    "df[\"obs\"]=clf"
   ]
  },
  {
   "cell_type": "code",
   "execution_count": null,
   "id": "a6eeeefd",
   "metadata": {},
   "outputs": [],
   "source": [
    "df.rename(columns={\"ChEMBL ID\": \"ChEMBL_ID\"}, inplace=True)"
   ]
  },
  {
   "cell_type": "code",
   "execution_count": null,
   "id": "d805eac0",
   "metadata": {},
   "outputs": [],
   "source": [
    "#check invalid smiles\n",
    "\n",
    "def invalid_mols(data, smi_col):\n",
    "    smiles = data[smi_col].tolist()\n",
    "    mols = [Chem.MolFromSmiles(smi) for smi in smiles]\n",
    "    pre = len(data)\n",
    "    for i, mol in enumerate(mols):\n",
    "        if mol is None:\n",
    "            smi=smiles[i]\n",
    "            data.drop(index = i, inplace = True)\n",
    "    post= len(data)\n",
    "    print(str(pre-post))\n",
    "    return data\n",
    "\n",
    "df = invalid_mols(df, \"smiles\")"
   ]
  },
  {
   "cell_type": "code",
   "execution_count": null,
   "id": "0b0cda39",
   "metadata": {},
   "outputs": [],
   "source": [
    "df[[\"ChEMBL_ID\", \"smiles\", \"obs\"]].to_csv(os.path.join(DATAPATH, \"pr_esaki2021.csv\"), index=False)"
   ]
  }
 ],
 "metadata": {
  "kernelspec": {
   "display_name": "Python 3.7.11 ('chemistry')",
   "language": "python",
   "name": "python3"
  },
  "language_info": {
   "codemirror_mode": {
    "name": "ipython",
    "version": 3
   },
   "file_extension": ".py",
   "mimetype": "text/x-python",
   "name": "python",
   "nbconvert_exporter": "python",
   "pygments_lexer": "ipython3",
   "version": "3.7.11"
  },
  "vscode": {
   "interpreter": {
    "hash": "a5ba2f1452682855ccf4135cb16ab3fe285c3388d1e3e2e119f7a866d80e2677"
   }
  }
 },
 "nbformat": 4,
 "nbformat_minor": 5
}
