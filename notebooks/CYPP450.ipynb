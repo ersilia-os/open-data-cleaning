{
 "cells": [
  {
   "cell_type": "code",
   "execution_count": null,
   "id": "007bef79",
   "metadata": {},
   "outputs": [],
   "source": [
    "import pandas as pd\n",
    "import numpy as np\n",
    "import os\n",
    "\n",
    "DATAPATH = \"../data\""
   ]
  },
  {
   "cell_type": "code",
   "execution_count": null,
   "id": "2ed5e272",
   "metadata": {},
   "outputs": [],
   "source": [
    "pubchem_outcomes = {1: \"inactive\", 2: \"active\", 3: \"inconclusive\", 4: \"unspecified\", 5: \"probe\"}"
   ]
  },
  {
   "cell_type": "code",
   "execution_count": null,
   "id": "f2d25f1e",
   "metadata": {},
   "outputs": [],
   "source": [
    "# if outcome is same for duplicated smiles, keep first instance, otherwise delete all\n",
    "def delete_duplicates(df):\n",
    "    original_len = len(df)\n",
    "    for smi in df[\"smiles\"][df[\"smiles\"].duplicated()].tolist():\n",
    "        idx = df.index[df[\"smiles\"]==smi].tolist()\n",
    "        outcomes = []\n",
    "        for i in idx:\n",
    "            out = df.loc[i][\"outcome\"]\n",
    "            outcomes += [out]\n",
    "        if len(set(outcomes)) == 1:\n",
    "            idx_to_remove = idx[1:]\n",
    "            df.drop(index=idx_to_remove, inplace=True)\n",
    "        else:\n",
    "            df.drop(index=idx, inplace=True)  \n",
    "    final_len = len(df)\n",
    "    print(\"{} smiles removed\".format(original_len-final_len))\n",
    "    \n",
    "def pubchem_outcomes(df):\n",
    "    outcomes = df[\"outcome\"].tolist()\n",
    "    bin_act = []\n",
    "    for out in outcomes:\n",
    "        if out == 1:\n",
    "            act = 0\n",
    "        elif out == 2:\n",
    "            act = 1\n",
    "        elif out == 3:\n",
    "            act = \"inconclusive\"\n",
    "        elif out == 4:\n",
    "            act = \"unspecified\"\n",
    "        elif out == 5:\n",
    "            act = \"probe\"\n",
    "        else:\n",
    "            print(\"unspecified\")\n",
    "            act = \"unspecified\"\n",
    "        bin_act += [act]\n",
    "    df[\"bin_activity\"] = bin_act\n",
    "\n",
    "def keep_actinact(df):\n",
    "    df.reset_index(inplace=True, drop=True)\n",
    "    outcomes = df[\"outcome\"].tolist()\n",
    "    idx = []\n",
    "    for i,out in enumerate(outcomes):\n",
    "        if out not in [1,2]:\n",
    "            idx += [i]\n",
    "    df.drop(index = idx, inplace=True)"
   ]
  },
  {
   "attachments": {},
   "cell_type": "markdown",
   "id": "3a167967",
   "metadata": {},
   "source": [
    "### PUBCHEM AID1851"
   ]
  },
  {
   "cell_type": "code",
   "execution_count": null,
   "id": "16dad891",
   "metadata": {},
   "outputs": [],
   "source": [
    "df = pd.read_csv(os.path.join(DATAPATH, \"original\",\"PUBCHEM1851.csv\"), low_memory=False)"
   ]
  },
  {
   "cell_type": "code",
   "execution_count": null,
   "id": "cac8c6ab",
   "metadata": {},
   "outputs": [],
   "source": [
    "# remove substances without associated smiles\n",
    "print(len(df))\n",
    "df = df[~df[\"smiles\"].isna()]\n",
    "print(len(df))"
   ]
  },
  {
   "cell_type": "code",
   "execution_count": null,
   "id": "b3a5d03d",
   "metadata": {},
   "outputs": [],
   "source": [
    "#separate by cyp\n",
    "cyps_1851 = {\n",
    "            \"cyp2c9\" : df[df[\"Panel Name\"]==\"p450-cyp2c9\"],\n",
    "            \"cyp2c19\" : df[df[\"Panel Name\"]==\"p450-cyp2c19\"],\n",
    "            \"cyp2d6\" : df[df[\"Panel Name\"]==\"p450-cyp2d6\"],\n",
    "            \"cyp3a4\" : df[df[\"Panel Name\"]==\"p450-cyp3a4\"],\n",
    "    \n",
    "}"
   ]
  },
  {
   "cell_type": "code",
   "execution_count": null,
   "id": "0f2f437e",
   "metadata": {},
   "outputs": [],
   "source": [
    "for k,v in cyps_1851.items():\n",
    "    delete_duplicates(v)\n",
    "    keep_actinact(v)\n",
    "    pubchem_outcomes(v)\n",
    "    cyps_1851[k] = v"
   ]
  },
  {
   "cell_type": "code",
   "execution_count": null,
   "id": "8bce780e",
   "metadata": {},
   "outputs": [],
   "source": [
    "for k,v in cyps_1851.items():\n",
    "    v['cid'] = 'CID' + v['cid'].astype(\"str\")\n",
    "    v[\"cid\"] = v[\"cid\"].apply(lambda x: x.split(\".\")[0])\n",
    "    v[[\"cid\", \"smiles\", \"bin_activity\"]].to_csv(os.path.join(DATAPATH, \"processed\", \"aid1851_{}.csv\".format(k)), index=False)"
   ]
  },
  {
   "attachments": {},
   "cell_type": "markdown",
   "id": "bdcc838d",
   "metadata": {},
   "source": [
    "### PUBCHEM AID883, 884, 891, 899"
   ]
  },
  {
   "cell_type": "code",
   "execution_count": null,
   "id": "b6b66ab7",
   "metadata": {},
   "outputs": [],
   "source": [
    "aids ={\"aid883_cyp2c9\": pd.read_csv(os.path.join(DATAPATH, \"original\", \"PUBCHEM883.csv\")),\n",
    "       \"aid884_cyp3a4\": pd.read_csv(os.path.join(DATAPATH, \"original\",\"PUBCHEM884.csv\")),\n",
    "       \"aid891_cyp2d6\": pd.read_csv(os.path.join(DATAPATH,\"original\", \"PUBCHEM891.csv\")),\n",
    "       \"aid899_cyp2c19\": pd.read_csv(os.path.join(DATAPATH,\"original\", \"PUBCHEM899.csv\")),\n",
    "}"
   ]
  },
  {
   "cell_type": "code",
   "execution_count": null,
   "id": "b88f7c55",
   "metadata": {},
   "outputs": [],
   "source": [
    "for k,v in aids.items():\n",
    "    v = v[~v[\"smiles\"].isna()]\n",
    "    delete_duplicates(v)\n",
    "    keep_actinact(v)\n",
    "    pubchem_outcomes(v)\n",
    "    aids[k] = v"
   ]
  },
  {
   "cell_type": "code",
   "execution_count": null,
   "id": "a0d2b99e",
   "metadata": {},
   "outputs": [],
   "source": [
    "for k,v in aids.items():\n",
    "    v['cid'] = 'CID' + v['cid'].astype(\"str\")\n",
    "    v[\"cid\"] = v[\"cid\"].apply(lambda x: x.split(\".\")[0])\n",
    "    v[[\"cid\", \"smiles\", \"bin_activity\"]].to_csv(os.path.join(DATAPATH, \"processed\", \"{}.csv\".format(k)), index=False)"
   ]
  },
  {
   "attachments": {},
   "cell_type": "markdown",
   "id": "5587d2bc",
   "metadata": {},
   "source": [
    "### Merge data from PubChem"
   ]
  },
  {
   "cell_type": "code",
   "execution_count": null,
   "id": "45e21b2d",
   "metadata": {},
   "outputs": [],
   "source": [
    "#merge data from different pubchem bioassays. If molecules are duplicated, keep the one from aid1851\n",
    "aid1851 = {\"cyp2c9\": pd.read_csv(os.path.join(DATAPATH, \"processed\", \"aid1851_cyp2c9.csv\")),\n",
    "           \"cyp2c19\": pd.read_csv(os.path.join(DATAPATH, \"processed\", \"aid1851_cyp2c19.csv\")),\n",
    "           \"cyp2d6\": pd.read_csv(os.path.join(DATAPATH, \"processed\", \"aid1851_cyp2d6.csv\")),\n",
    "           \"cyp3a4\": pd.read_csv(os.path.join(DATAPATH, \"processed\", \"aid1851_cyp3a4.csv\")),\n",
    "          }\n",
    "aids = {\"cyp2c9\": pd.read_csv(os.path.join(DATAPATH, \"processed\", \"aid883_cyp2c9.csv\")),\n",
    "        \"cyp2c19\": pd.read_csv(os.path.join(DATAPATH, \"processed\", \"aid899_cyp2c19.csv\")),\n",
    "        \"cyp2d6\": pd.read_csv(os.path.join(DATAPATH, \"processed\", \"aid891_cyp2d6.csv\")),\n",
    "        \"cyp3a4\": pd.read_csv(os.path.join(DATAPATH, \"processed\", \"aid884_cyp3a4.csv\")),\n",
    "}"
   ]
  },
  {
   "cell_type": "code",
   "execution_count": null,
   "id": "b881c537",
   "metadata": {},
   "outputs": [],
   "source": [
    "for k,v in aid1851.items():\n",
    "    for k2,v2 in aids.items():\n",
    "        if k == k2:\n",
    "            df = pd.concat([v,v2], ignore_index = True)\n",
    "            df.drop_duplicates(subset=[\"smiles\"], keep=\"first\", inplace=True)     \n",
    "            df.to_csv(os.path.join(DATAPATH, \"processed\", \"pubchem_{}.csv\".format(k)), index=False)"
   ]
  },
  {
   "attachments": {},
   "cell_type": "markdown",
   "id": "0d7183f4",
   "metadata": {},
   "source": [
    "### CHEMBL DATA\n",
    "ChEMBL database records include quantitative information on enzyme inhibition. Only compounds having assigned “Standard Type” “IC50″ or ”Ki“, and ”Standard Units“ ”nM“ were considered. Entries with ”Standard Value“ lower than 10,000 were defined as active if the ”Standard Relation“ was one of “=”, “<=” or “<”. Entries with ”Standard Value“ greater than 20,000 were defined as inactive if the ”Standard Relation“ was one of “=”, “>=” or “>”. Bioactivity data not matching any of these criteria were discarded"
   ]
  },
  {
   "cell_type": "code",
   "execution_count": null,
   "id": "571186be",
   "metadata": {},
   "outputs": [],
   "source": [
    "chembl_ic50 = {\"cyp2c9\":pd.read_csv(os.path.join(DATAPATH, \"original\", \"chembl_cyp2c9_IC50.csv\"), encoding='ISO-8859-1'),\n",
    "               \"cyp2c19\":pd.read_csv(os.path.join(DATAPATH, \"original\", \"chembl_cyp2c19_IC50.csv\"),encoding='ISO-8859-1'),\n",
    "               \"cyp2d6\":pd.read_csv(os.path.join(DATAPATH, \"original\", \"chembl_cyp2d6_IC50.csv\"), encoding='ISO-8859-1'),\n",
    "               \"cyp3a4\":pd.read_csv(os.path.join(DATAPATH, \"original\", \"chembl_cyp3a4_IC50.csv\"), encoding='ISO-8859-1'),\n",
    "              }\n",
    "chembl_ki = {\"cyp2c9\":pd.read_csv(os.path.join(DATAPATH, \"original\", \"chembl_cyp2c9_ki.csv\")),\n",
    "               \"cyp2c19\":pd.read_csv(os.path.join(DATAPATH, \"original\", \"chembl_cyp2c19_ki.csv\")),\n",
    "               \"cyp2d6\":pd.read_csv(os.path.join(DATAPATH, \"original\", \"chembl_cyp2d6_ki.csv\")),\n",
    "               \"cyp3a4\":pd.read_csv(os.path.join(DATAPATH, \"original\", \"chembl_cyp3a4_ki.csv\")),\n",
    "              }"
   ]
  },
  {
   "cell_type": "code",
   "execution_count": null,
   "id": "2f7924b4",
   "metadata": {},
   "outputs": [],
   "source": [
    "for k,v in chembl_ic50.items():    \n",
    "    print(k)\n",
    "\n",
    "    #delete rows with measurements not in nM\n",
    "    idx = v.index[~v[\"Standard Units\"].isin([\"nM\"])]\n",
    "    v.drop(labels=idx, inplace=True)\n",
    "    print(len(v))\n",
    "\n",
    "    #select rows with matching bioactivity criteria for active / non-active\n",
    "    idx=v.index[~(((v[\"Standard Value\"]<=10000)&(v[\"Standard Relation\"].isin([\"'<'\", \"'='\", \"'<='\"])))\n",
    "             |((v[\"Standard Value\"]>=20000)&(v[\"Standard Relation\"].isin([\"'>'\", \"'='\", \"'>='\"]))))\n",
    "            ]\n",
    "    v.drop(labels=idx, inplace=True)\n",
    "    \n",
    "    #merge same smiles averging the results\n",
    "    v=v[[\"Molecule ChEMBL ID\",'Smiles', \"Standard Value\"]]\n",
    "    v = v.groupby(\"Smiles\", as_index=False).agg(\n",
    "        chembl_id = pd.NamedAgg(column=\"Molecule ChEMBL ID\", aggfunc = \"first\"),\n",
    "        value = pd.NamedAgg(column=\"Standard Value\", aggfunc = \"mean\")\n",
    "    )\n",
    "    print(len(v))    \n",
    "    v.rename(columns={\"Smiles\":\"smiles\"}, inplace=True)\n",
    "    chembl_ic50[k]=v #re-assing dataframe to dictionary"
   ]
  },
  {
   "cell_type": "code",
   "execution_count": null,
   "id": "a568cc7a",
   "metadata": {},
   "outputs": [],
   "source": [
    "for k,v in chembl_ki.items():    \n",
    "    print(k)\n",
    "\n",
    "    #delete rows with measurements not in nM\n",
    "    idx = v.index[~v[\"Standard Units\"].isin([\"nM\"])]\n",
    "    v.drop(labels=idx, inplace=True)\n",
    "    print(len(v))\n",
    "\n",
    "    #select rows with matching bioactivity criteria for active / non-active\n",
    "    idx=v.index[~(((v[\"Standard Value\"]<=10000)&(v[\"Standard Relation\"].isin([\"'<'\", \"'='\", \"'<='\"])))\n",
    "             |((v[\"Standard Value\"]>=20000)&(v[\"Standard Relation\"].isin([\"'>'\", \"'='\", \"'>='\"]))))\n",
    "            ]\n",
    "    v.drop(labels=idx, inplace=True)\n",
    "    \n",
    "    #merge same smiles averging the results\n",
    "    v=v[[\"Molecule ChEMBL ID\",'Smiles', \"Standard Value\"]]\n",
    "    v = v.groupby(\"Smiles\", as_index=False).agg(\n",
    "        chembl_id = pd.NamedAgg(column=\"Molecule ChEMBL ID\", aggfunc = \"first\"),\n",
    "        value = pd.NamedAgg(column=\"Standard Value\", aggfunc = \"mean\")\n",
    "    )\n",
    "    print(len(v))    \n",
    "    v.rename(columns={\"Smiles\":\"smiles\"}, inplace=True)\n",
    "    chembl_ki[k]=v #re-assing dataframe to dictionary"
   ]
  },
  {
   "cell_type": "code",
   "execution_count": null,
   "id": "3d7f772d",
   "metadata": {},
   "outputs": [],
   "source": [
    "#merge IC50 and Ki data, if we have IC50 value for a given molecule do not use KI\n",
    "for k,v in chembl_ic50.items():\n",
    "    for k2, v2 in chembl_ki.items():\n",
    "        if k == k2:\n",
    "            df = pd.concat([v,v2], ignore_index=True)\n",
    "            df.drop_duplicates(subset=[\"smiles\"], keep=\"first\", inplace=True)\n",
    "            bin_act = []\n",
    "            val = df[\"value\"].tolist()\n",
    "            for n in val:\n",
    "                if n >= 20000:\n",
    "                    ba = 0\n",
    "                elif n <= 10000:\n",
    "                    ba = 1\n",
    "                bin_act += [ba]\n",
    "            df[\"bin_activity\"] = bin_act\n",
    "            df.to_csv(os.path.join(DATAPATH, \"processed\", \"chembl_{}.csv\".format(k)), index=False)"
   ]
  },
  {
   "attachments": {},
   "cell_type": "markdown",
   "id": "5371fa28",
   "metadata": {},
   "source": [
    "### Join PubChem and ChEMBL datasets"
   ]
  },
  {
   "cell_type": "code",
   "execution_count": null,
   "id": "1291b792",
   "metadata": {},
   "outputs": [],
   "source": [
    "pubchem = {\"cyp2c9\": pd.read_csv(os.path.join(DATAPATH, \"processed\", \"pubchem_cyp2c9.csv\")),\n",
    "           \"cyp2c19\": pd.read_csv(os.path.join(DATAPATH, \"processed\", \"pubchem_cyp2c19.csv\")),\n",
    "           \"cyp2d6\": pd.read_csv(os.path.join(DATAPATH, \"processed\", \"pubchem_cyp2d6.csv\")),\n",
    "           \"cyp3a4\": pd.read_csv(os.path.join(DATAPATH, \"processed\", \"pubchem_cyp3a4.csv\")),\n",
    "          }\n",
    "chembl = {\"cyp2c9\": pd.read_csv(os.path.join(DATAPATH, \"processed\", \"chembl_cyp2c9.csv\")),\n",
    "           \"cyp2c19\": pd.read_csv(os.path.join(DATAPATH, \"processed\", \"chembl_cyp2c19.csv\")),\n",
    "           \"cyp2d6\": pd.read_csv(os.path.join(DATAPATH, \"processed\", \"chembl_cyp2d6.csv\")),\n",
    "           \"cyp3a4\": pd.read_csv(os.path.join(DATAPATH, \"processed\", \"chembl_cyp3a4.csv\")),\n",
    "          }"
   ]
  },
  {
   "cell_type": "code",
   "execution_count": null,
   "id": "fda4b076",
   "metadata": {},
   "outputs": [],
   "source": [
    "#keep only relevant columns and same names\n",
    "for k,v in pubchem.items():\n",
    "    v.rename(columns={\"cid\":\"compound_id\"}, inplace=True)\n",
    "    pubchem[k]=v\n",
    "for k,v in chembl.items():\n",
    "    v.rename(columns={\"chembl_id\":\"compound_id\"}, inplace=True)\n",
    "    v.drop(columns=[\"value\"], inplace=True)\n",
    "    chembl[k]=v"
   ]
  },
  {
   "cell_type": "code",
   "execution_count": null,
   "id": "5eeed33a",
   "metadata": {},
   "outputs": [],
   "source": [
    "from rdkit import Chem\n",
    "\n",
    "for k,v in pubchem.items():\n",
    "    for k2,v2 in chembl.items():\n",
    "        if k == k2:\n",
    "            df = pd.concat([v,v2], ignore_index=True)\n",
    "            print(len(df))\n",
    "            df.drop_duplicates(subset=[\"smiles\"], keep=\"first\", inplace=True)\n",
    "            print(len(df))\n",
    "            smiles = df[\"smiles\"].tolist()\n",
    "            mols = [Chem.MolFromSmiles(smi) for smi in smiles]\n",
    "            for i, mol in enumerate(mols):\n",
    "                if mol is None:\n",
    "                    df.drop(index = i, inplace=True)  \n",
    "            can_smi = [Chem.MolToSmiles(mol) for mol in mols if mol != None]\n",
    "            df[\"CAN_SMILES\"] = can_smi\n",
    "            print(len(df))\n",
    "\n",
    "            df.to_csv(os.path.join(DATAPATH, \"processed\", \"cyp_all_{}.csv\".format(k)), index=False)\n",
    "        "
   ]
  }
 ],
 "metadata": {
  "kernelspec": {
   "display_name": "Python 3.7.11 ('h3d')",
   "language": "python",
   "name": "python3"
  },
  "language_info": {
   "codemirror_mode": {
    "name": "ipython",
    "version": 3
   },
   "file_extension": ".py",
   "mimetype": "text/x-python",
   "name": "python",
   "nbconvert_exporter": "python",
   "pygments_lexer": "ipython3",
   "version": "3.7.11"
  },
  "vscode": {
   "interpreter": {
    "hash": "78289bfacd606ea02653e57fbb9ed8ca4308fa34c0d5dd632243a1b1e16e323f"
   }
  }
 },
 "nbformat": 4,
 "nbformat_minor": 5
}
