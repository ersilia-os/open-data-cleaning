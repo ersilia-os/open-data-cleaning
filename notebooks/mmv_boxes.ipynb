{
 "cells": [
  {
   "cell_type": "code",
   "execution_count": 1,
   "metadata": {},
   "outputs": [],
   "source": [
    "import os\n",
    "import pandas as pd\n",
    "import numpy as np\n",
    "from rdkit import Chem\n",
    "\n",
    "DATAPATH = \"../data/mmv_boxes\""
   ]
  },
  {
   "attachments": {},
   "cell_type": "markdown",
   "metadata": {},
   "source": [
    "# Pathogen Box"
   ]
  },
  {
   "cell_type": "code",
   "execution_count": null,
   "metadata": {},
   "outputs": [],
   "source": [
    "xls = pd.ExcelFile(os.path.join(DATAPATH, \"Pathogen_Box_Activity_Biological_Data_Smiles.xlsx\"))\n",
    "xls.sheet_names"
   ]
  },
  {
   "cell_type": "code",
   "execution_count": null,
   "metadata": {},
   "outputs": [],
   "source": [
    "df = pd.read_excel(xls, sheet_name=\"MASTER SHEET\")"
   ]
  },
  {
   "cell_type": "code",
   "execution_count": null,
   "metadata": {},
   "outputs": [],
   "source": [
    "df.columns"
   ]
  },
  {
   "cell_type": "code",
   "execution_count": null,
   "metadata": {},
   "outputs": [],
   "source": [
    "df = df[['*Please refer to the individual tabs fo each disease set for more details',\n",
    "        'Unnamed: 4',\n",
    "        'Anti - Mycobacterium tuberculosis activity', \n",
    "        'Antimalarial activity: Asexual Blood Stage',\n",
    "        'Cytotoxicity data*'\n",
    "        ]]\n",
    "df.rename(columns = {\n",
    "    '*Please refer to the individual tabs fo each disease set for more details': \"SMILES\",\n",
    "    'Unnamed: 4': \"indication\",\n",
    "    'Anti - Mycobacterium tuberculosis activity': \"mtb_MIC90\",\n",
    "    'Antimalarial activity: Asexual Blood Stage': \"pf_IC50\",\n",
    "    'Cytotoxicity data*': \"hepg2_CC50\"\n",
    "    }, inplace=True)\n",
    "\n",
    "df.drop(labels=[0, 401, 402], axis = 0, inplace=True)\n",
    "df.dropna(subset=[\"SMILES\"], inplace=True)\n",
    "df.reset_index(drop=True, inplace=True)"
   ]
  },
  {
   "cell_type": "code",
   "execution_count": null,
   "metadata": {},
   "outputs": [],
   "source": [
    "mols = [Chem.MolFromSmiles(smi) for smi in df[\"SMILES\"].tolist()]\n",
    "can_smi = [Chem.MolToSmiles(mol) for mol in mols]\n",
    "df[\"CAN_SMILES\"] = can_smi\n",
    "df = df[[\"SMILES\", \"CAN_SMILES\", \"indication\",\"pf_IC50\", \"mtb_MIC90\", \"hepg2_CC50\"]]"
   ]
  },
  {
   "cell_type": "code",
   "execution_count": null,
   "metadata": {},
   "outputs": [],
   "source": [
    "num_cols = [\"mtb_MIC90\", \"pf_IC50\", \"hepg2_CC50\"]"
   ]
  },
  {
   "cell_type": "code",
   "execution_count": null,
   "metadata": {},
   "outputs": [],
   "source": [
    "df[num_cols] = df[num_cols].replace({\"< \":\"\"}, regex=True)\n",
    "df[num_cols] = df[num_cols].replace({\"<\":\"\"}, regex=True)\n",
    "df[num_cols] = df[num_cols].replace({\"> \":\"\"}, regex=True)\n",
    "df[num_cols] = df[num_cols].replace({\">\":\"\"}, regex=True)"
   ]
  },
  {
   "cell_type": "code",
   "execution_count": null,
   "metadata": {},
   "outputs": [],
   "source": [
    "vals = [x for x in df[\"pf_IC50\"]]\n",
    "for i, v in enumerate(vals):\n",
    "    try:\n",
    "        float(v)\n",
    "    except:\n",
    "        print(i, v)"
   ]
  },
  {
   "cell_type": "code",
   "execution_count": null,
   "metadata": {},
   "outputs": [],
   "source": [
    "import numpy as np\n",
    "df.loc[240][\"pf_IC50\"]=np.nan\n",
    "df.loc[221][\"pf_IC50\"]= 0.1\n",
    "df.loc[222][\"pf_IC50\"]= 0.1\n",
    "df.loc[223][\"pf_IC50\"]= 0.007\n"
   ]
  },
  {
   "cell_type": "code",
   "execution_count": null,
   "metadata": {},
   "outputs": [],
   "source": [
    "df = df.astype({\"SMILES\": \"string\",\n",
    "        \"CAN_SMILES\": \"string\",\n",
    "        \"indication\": \"string\",\n",
    "        \"mtb_MIC90\": \"float\",\n",
    "        \"pf_IC50\":\"float\",\n",
    "        \"hepg2_CC50\":\"float\"\n",
    "        })"
   ]
  },
  {
   "cell_type": "code",
   "execution_count": null,
   "metadata": {},
   "outputs": [],
   "source": [
    "df.dtypes"
   ]
  },
  {
   "cell_type": "code",
   "execution_count": null,
   "metadata": {},
   "outputs": [],
   "source": [
    "df.to_csv(os.path.join(DATAPATH, \"mmv_pathogenbox.csv\"), index=False)"
   ]
  },
  {
   "cell_type": "code",
   "execution_count": null,
   "metadata": {},
   "outputs": [],
   "source": [
    "with open(os.path.join(DATAPATH, \"mmv_pathogenbox_smiles.txt\"), \"w\") as f:\n",
    "    for s in df[\"CAN_SMILES\"].tolist():\n",
    "        f.write(f\"{s}\\n\")"
   ]
  },
  {
   "attachments": {},
   "cell_type": "markdown",
   "metadata": {},
   "source": [
    "# Malaria Box"
   ]
  },
  {
   "cell_type": "code",
   "execution_count": null,
   "metadata": {},
   "outputs": [],
   "source": [
    "xls = pd.ExcelFile(os.path.join(DATAPATH, \"MalariaBox400compoundsDec2014.xls\"))\n",
    "xls.sheet_names"
   ]
  },
  {
   "cell_type": "code",
   "execution_count": null,
   "metadata": {},
   "outputs": [],
   "source": [
    "df = pd.read_excel(xls, sheet_name=\"vortex_sheet\")"
   ]
  },
  {
   "cell_type": "code",
   "execution_count": null,
   "metadata": {},
   "outputs": [],
   "source": [
    "df.columns"
   ]
  },
  {
   "cell_type": "code",
   "execution_count": null,
   "metadata": {},
   "outputs": [],
   "source": [
    "df = df[[\"Smiles\", \"EC50_nM\"]]\n",
    "df.rename(columns={\"Smiles\": \"SMILES\", \"EC50_nM\": \"pf_IC50\"}, inplace=True)"
   ]
  },
  {
   "cell_type": "code",
   "execution_count": null,
   "metadata": {},
   "outputs": [],
   "source": [
    "mols = [Chem.MolFromSmiles(smi) for smi in df[\"SMILES\"].tolist()]\n",
    "can_smi = [Chem.MolToSmiles(mol) for mol in mols]\n",
    "df[\"CAN_SMILES\"] = can_smi\n",
    "df = df[[\"SMILES\", \"CAN_SMILES\", \"pf_IC50\"]]"
   ]
  },
  {
   "cell_type": "code",
   "execution_count": null,
   "metadata": {},
   "outputs": [],
   "source": [
    "vals = [x for x in df[\"pf_IC50\"]]\n",
    "nd = []\n",
    "for i, v in enumerate(vals):\n",
    "    try:\n",
    "        float(v)\n",
    "    except:\n",
    "        print(i, v)\n",
    "        nd += [i]"
   ]
  },
  {
   "cell_type": "code",
   "execution_count": null,
   "metadata": {},
   "outputs": [],
   "source": [
    "for i in nd:\n",
    "    df.loc[i][\"pf_IC50\"]=np.nan"
   ]
  },
  {
   "cell_type": "code",
   "execution_count": null,
   "metadata": {},
   "outputs": [],
   "source": [
    "df = df.astype({\"SMILES\": \"string\",\n",
    "        \"CAN_SMILES\": \"string\",\n",
    "        \"pf_IC50\":\"float\",\n",
    "        })\n",
    "df.dtypes"
   ]
  },
  {
   "cell_type": "code",
   "execution_count": null,
   "metadata": {},
   "outputs": [],
   "source": [
    "df[\"pf_IC50\"] = df[\"pf_IC50\"].apply(lambda x: x*0.001)"
   ]
  },
  {
   "cell_type": "code",
   "execution_count": null,
   "metadata": {},
   "outputs": [],
   "source": [
    "df.to_csv(os.path.join(DATAPATH, \"mmv_malariabox.csv\"), index=False)"
   ]
  },
  {
   "cell_type": "code",
   "execution_count": null,
   "metadata": {},
   "outputs": [],
   "source": [
    "with open(os.path.join(DATAPATH, \"mmv_malariabox_smiles.txt\"), \"w\") as f:\n",
    "    for s in df[\"CAN_SMILES\"].tolist():\n",
    "        f.write(f\"{s}\\n\")"
   ]
  },
  {
   "cell_type": "markdown",
   "metadata": {},
   "source": [
    "# Pandemic Response Box"
   ]
  },
  {
   "cell_type": "code",
   "execution_count": 36,
   "metadata": {},
   "outputs": [
    {
     "data": {
      "text/plain": [
       "['Pandemic Response Box_list of c', 'Cytotox-PAMPA-mMS']"
      ]
     },
     "execution_count": 36,
     "metadata": {},
     "output_type": "execute_result"
    }
   ],
   "source": [
    "xls = pd.ExcelFile(os.path.join(DATAPATH, \"Pandemic_Response_Box_list_of compounds.xlsx\"))\n",
    "xls.sheet_names"
   ]
  },
  {
   "cell_type": "code",
   "execution_count": 38,
   "metadata": {},
   "outputs": [
    {
     "data": {
      "text/plain": [
       "Index(['MMV ID', 'DISEASE AREA', 'SALT COEFF', 'SALT NAME', 'CHEM NAME',\n",
       "       'TRIVIAL  NAME', 'STRUCTURE', 'SMILES', 'ChEMBL ID', 'LIT. REF',\n",
       "       'COMMENTS', 'MW', 'FORMULA', 'PSA', 'ALOGP', 'RULEOF5'],\n",
       "      dtype='object')"
      ]
     },
     "execution_count": 38,
     "metadata": {},
     "output_type": "execute_result"
    }
   ],
   "source": [
    "df = pd.read_excel(xls, sheet_name=\"Pandemic Response Box_list of c\")\n",
    "df.columns"
   ]
  },
  {
   "cell_type": "code",
   "execution_count": 39,
   "metadata": {},
   "outputs": [
    {
     "data": {
      "text/plain": [
       "(404, 16)"
      ]
     },
     "execution_count": 39,
     "metadata": {},
     "output_type": "execute_result"
    }
   ],
   "source": [
    "df.shape"
   ]
  },
  {
   "cell_type": "code",
   "execution_count": 41,
   "metadata": {},
   "outputs": [
    {
     "data": {
      "text/plain": [
       "(400, 16)"
      ]
     },
     "execution_count": 41,
     "metadata": {},
     "output_type": "execute_result"
    }
   ],
   "source": [
    "df = df[~df[\"SMILES\"].isna()]\n",
    "df.shape"
   ]
  },
  {
   "cell_type": "code",
   "execution_count": 43,
   "metadata": {},
   "outputs": [],
   "source": [
    "df = df[[\"SMILES\"]] # we will only keep smiles at this moment\n",
    "mols = [Chem.MolFromSmiles(smi) for smi in df[\"SMILES\"].tolist()]\n",
    "can_smi = [Chem.MolToSmiles(mol) for mol in mols]\n",
    "df[\"CAN_SMILES\"] = can_smi\n",
    "df = df[[\"SMILES\", \"CAN_SMILES\"]]\n",
    "df.to_csv(os.path.join(DATAPATH, \"mmv_pandemicresponsebox.csv\"), index=False)"
   ]
  },
  {
   "cell_type": "markdown",
   "metadata": {},
   "source": [
    "# Global Health Response Box"
   ]
  },
  {
   "cell_type": "code",
   "execution_count": 45,
   "metadata": {},
   "outputs": [
    {
     "data": {
      "text/plain": [
       "['ZZGHPB CONTENT_d4o',\n",
       " 'GHPB CONTENT',\n",
       " 'ZZGHPB DATA_d4o',\n",
       " 'ZZMB2 PLATE_d4o',\n",
       " 'VEC PLATE',\n",
       " 'ZZZND PLATE_d4o',\n",
       " 'ZND PLATE',\n",
       " 'MB2 PLATE',\n",
       " 'ZZRESITOME POOLS_d4o',\n",
       " 'RESITOME POOLS']"
      ]
     },
     "execution_count": 45,
     "metadata": {},
     "output_type": "execute_result"
    }
   ],
   "source": [
    "xls = pd.ExcelFile(os.path.join(DATAPATH, \"GHPB_DETAILS.xlsx\"))\n",
    "xls.sheet_names"
   ]
  },
  {
   "cell_type": "code",
   "execution_count": 56,
   "metadata": {},
   "outputs": [
    {
     "name": "stdout",
     "output_type": "stream",
     "text": [
      "(240, 16)\n"
     ]
    },
    {
     "data": {
      "text/plain": [
       "Index(['STRUCTURE', 'ENTITY_ID', 'AREA OF RESEARCH', 'CHEMICAL NAME', 'SMILES',\n",
       "       'FORMULA', 'MW', 'SALT_MW', 'SALT_NAME', 'SALT_COEFF', 'TRIVIAL_NAME',\n",
       "       'ENTITY TAG', 'ENTITY COMMENT', 'PSA', 'ALOGP', 'RULEOF5'],\n",
       "      dtype='object')"
      ]
     },
     "execution_count": 56,
     "metadata": {},
     "output_type": "execute_result"
    }
   ],
   "source": [
    "df = pd.read_excel(xls, sheet_name=\"GHPB CONTENT\")\n",
    "print(df.shape)\n",
    "df.columns"
   ]
  },
  {
   "cell_type": "code",
   "execution_count": 57,
   "metadata": {},
   "outputs": [
    {
     "data": {
      "text/plain": [
       "(240, 16)"
      ]
     },
     "execution_count": 57,
     "metadata": {},
     "output_type": "execute_result"
    }
   ],
   "source": [
    "df = df[~df[\"SMILES\"].isna()]\n",
    "df.shape"
   ]
  },
  {
   "cell_type": "code",
   "execution_count": 58,
   "metadata": {},
   "outputs": [],
   "source": [
    "smi = df[\"SMILES\"].tolist()"
   ]
  },
  {
   "cell_type": "code",
   "execution_count": 59,
   "metadata": {},
   "outputs": [
    {
     "name": "stdout",
     "output_type": "stream",
     "text": [
      "81\n",
      "103\n"
     ]
    },
    {
     "name": "stderr",
     "output_type": "stream",
     "text": [
      "[13:16:58] SMILES Parse Error: syntax error while parsing: [R][C@@H](C)[C@@H]1O[C@@]2(C[C@H]3C[C@@H](C\\C=C(/C)\\[C@@H](O[C@H]4C[C@H](OC)[C@@H](O[C@@H]5C[C@@H](OC)[C@H](O)[C@@H](C)O5)[C@H](C)O4)[C@@H](C)\\C=C\\C=C\\6/COC7[C@H](O)C(=C[C@@H](C(=O)O3)[C@@]67O)C)O2)C=C[C@H]1C\n",
      "[13:16:58] SMILES Parse Error: Failed parsing SMILES '[R][C@@H](C)[C@@H]1O[C@@]2(C[C@H]3C[C@@H](C\\C=C(/C)\\[C@@H](O[C@H]4C[C@H](OC)[C@@H](O[C@@H]5C[C@@H](OC)[C@H](O)[C@@H](C)O5)[C@H](C)O4)[C@@H](C)\\C=C\\C=C\\6/COC7[C@H](O)C(=C[C@@H](C(=O)O3)[C@@]67O)C)O2)C=C[C@H]1C' for input: '[R][C@@H](C)[C@@H]1O[C@@]2(C[C@H]3C[C@@H](C\\C=C(/C)\\[C@@H](O[C@H]4C[C@H](OC)[C@@H](O[C@@H]5C[C@@H](OC)[C@H](O)[C@@H](C)O5)[C@H](C)O4)[C@@H](C)\\C=C\\C=C\\6/COC7[C@H](O)C(=C[C@@H](C(=O)O3)[C@@]67O)C)O2)C=C[C@H]1C'\n",
      "[13:16:58] SMILES Parse Error: syntax error while parsing: [R][C@H]1O[C@]2(CC[C@@H]1C)C[C@@H]3C[C@@H](C\\C=C(/C)\\C[C@@H](C)\\C=C\\C=C\\4/CO[C@@H]5[C@H](O)C(=C[C@@H](C(=O)O3)[C@]45O)C)O2\n",
      "[13:16:58] SMILES Parse Error: Failed parsing SMILES '[R][C@H]1O[C@]2(CC[C@@H]1C)C[C@@H]3C[C@@H](C\\C=C(/C)\\C[C@@H](C)\\C=C\\C=C\\4/CO[C@@H]5[C@H](O)C(=C[C@@H](C(=O)O3)[C@]45O)C)O2' for input: '[R][C@H]1O[C@]2(CC[C@@H]1C)C[C@@H]3C[C@@H](C\\C=C(/C)\\C[C@@H](C)\\C=C\\C=C\\4/CO[C@@H]5[C@H](O)C(=C[C@@H](C(=O)O3)[C@]45O)C)O2'\n"
     ]
    }
   ],
   "source": [
    "can_smi = []\n",
    "mols = [Chem.MolFromSmiles(smi) for smi in df[\"SMILES\"].tolist()]\n",
    "for i,mol in enumerate(mols):\n",
    "    if mol is not None:\n",
    "        can_s = Chem.MolToSmiles(mol)\n",
    "        can_smi += [can_s]\n",
    "    else:\n",
    "        print(i)\n",
    "\n",
    "df = pd.DataFrame(columns=[\"CAN_SMILES\"])\n",
    "df[\"CAN_SMILES\"] = can_smi\n",
    "df.to_csv(os.path.join(DATAPATH, \"mmv_globalhealthbox.csv\"), index=False)"
   ]
  },
  {
   "cell_type": "code",
   "execution_count": 62,
   "metadata": {},
   "outputs": [
    {
     "data": {
      "text/plain": [
       "'[R][C@H]1O[C@]2(CC[C@@H]1C)C[C@@H]3C[C@@H](C\\\\C=C(/C)\\\\C[C@@H](C)\\\\C=C\\\\C=C\\\\4/CO[C@@H]5[C@H](O)C(=C[C@@H](C(=O)O3)[C@]45O)C)O2'"
      ]
     },
     "execution_count": 62,
     "metadata": {},
     "output_type": "execute_result"
    }
   ],
   "source": [
    "smi[103]"
   ]
  },
  {
   "cell_type": "markdown",
   "metadata": {},
   "source": [
    "## OVERLAP"
   ]
  },
  {
   "cell_type": "code",
   "execution_count": 63,
   "metadata": {},
   "outputs": [
    {
     "name": "stdout",
     "output_type": "stream",
     "text": [
      "0\n",
      "6\n",
      "1\n",
      "0\n",
      "1\n",
      "0\n"
     ]
    }
   ],
   "source": [
    "# is there overlap with malaria and pathogen boxes?\n",
    "\n",
    "malaria = pd.read_csv(os.path.join(DATAPATH, \"mmv_malariabox.csv\"))\n",
    "pathogen = pd.read_csv(os.path.join(DATAPATH, \"mmv_pathogenbox.csv\"))\n",
    "pandemic = pd.read_csv(os.path.join(DATAPATH, \"mmv_pandemicbox.csv\"))\n",
    "gh = pd.read_csv(os.path.join(DATAPATH, \"mmv_ghbox.csv\"))\n",
    "\n",
    "print(len(list(set.intersection(set(malaria[\"CAN_SMILES\"]), set(pandemic[\"CAN_SMILES\"])))))\n",
    "print(len(list(set.intersection(set(pathogen[\"CAN_SMILES\"]), set(pandemic[\"CAN_SMILES\"])))))\n",
    "print(len(list(set.intersection(set(gh[\"CAN_SMILES\"]), set(pandemic[\"CAN_SMILES\"])))))\n",
    "print(len(list(set.intersection(set(pathogen[\"CAN_SMILES\"]), set(malaria[\"CAN_SMILES\"])))))\n",
    "print(len(list(set.intersection(set(pathogen[\"CAN_SMILES\"]), set(gh[\"CAN_SMILES\"])))))\n",
    "print(len(list(set.intersection(set(malaria[\"CAN_SMILES\"]), set(gh[\"CAN_SMILES\"])))))"
   ]
  }
 ],
 "metadata": {
  "kernelspec": {
   "display_name": "Python 3.7.11 ('h3d')",
   "language": "python",
   "name": "python3"
  },
  "language_info": {
   "codemirror_mode": {
    "name": "ipython",
    "version": 3
   },
   "file_extension": ".py",
   "mimetype": "text/x-python",
   "name": "python",
   "nbconvert_exporter": "python",
   "pygments_lexer": "ipython3",
   "version": "3.11.8"
  },
  "orig_nbformat": 4,
  "vscode": {
   "interpreter": {
    "hash": "78289bfacd606ea02653e57fbb9ed8ca4308fa34c0d5dd632243a1b1e16e323f"
   }
  }
 },
 "nbformat": 4,
 "nbformat_minor": 2
}
