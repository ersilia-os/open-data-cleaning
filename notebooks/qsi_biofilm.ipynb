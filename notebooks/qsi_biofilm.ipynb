{
 "cells": [
  {
   "cell_type": "code",
   "execution_count": 15,
   "metadata": {},
   "outputs": [],
   "source": [
    "import os\n",
    "import pandas as pd\n",
    "import numpy as np\n",
    "import matplotlib.pyplot as plt\n",
    "\n",
    "import sys\n",
    "sys.path.append(\"../src\")\n",
    "from smi_processing import standardise_smiles\n",
    "\n",
    "DATAPATH = \"../data/qsi_biofilm\""
   ]
  },
  {
   "cell_type": "code",
   "execution_count": 34,
   "metadata": {},
   "outputs": [
    {
     "name": "stderr",
     "output_type": "stream",
     "text": [
      "[19:53:31] Explicit valence for atom # 7 N, 4, is greater than permitted\n",
      "[19:53:31] Explicit valence for atom # 29 N, 4, is greater than permitted\n"
     ]
    },
    {
     "name": "stdout",
     "output_type": "stream",
     "text": [
      "(3036, 7)\n",
      "(3021, 7)\n"
     ]
    }
   ],
   "source": [
    "df1 = pd.read_csv(os.path.join(DATAPATH, \"compounds_qsi.csv\"))\n",
    "df2 = pd.read_csv(os.path.join(DATAPATH,\"cidal_qsi.csv\"))\n",
    "df1[\"Inh_growth_ATCC\"] = np.nan\n",
    "df1[\"cidal\"] = 0\n",
    "df2[\"cidal\"] = 1\n",
    "df = pd.concat([df1, df2], ignore_index=True)\n",
    "st_smiles = standardise_smiles(df[\"SMILES\"].tolist())\n",
    "df[\"st_smiles\"]=st_smiles\n",
    "print(df.shape)\n",
    "df.dropna(subset = [\"st_smiles\"], inplace=True)\n",
    "print(df.shape)\n",
    "df.rename(columns={\"QSI (1:Yes/0:No)\": \"qsi\"}, inplace=True)\n",
    "df.drop(columns=\"SMILES\", inplace=True)\n",
    "df.to_csv(os.path.join(DATAPATH, \"qsi_biofilm\", \"qsi_master.csv\"), index=False)"
   ]
  },
  {
   "cell_type": "code",
   "execution_count": 35,
   "metadata": {},
   "outputs": [],
   "source": [
    "df = pd.read_csv(os.path.join(DATAPATH, \"qsi_master.csv\"))"
   ]
  },
  {
   "cell_type": "code",
   "execution_count": 36,
   "metadata": {},
   "outputs": [
    {
     "name": "stdout",
     "output_type": "stream",
     "text": [
      "2535\n",
      "689\n"
     ]
    }
   ],
   "source": [
    "print(len(df[df[\"cidal\"]==0]))\n",
    "print(len(df[df[\"qsi\"]==1]))"
   ]
  }
 ],
 "metadata": {
  "kernelspec": {
   "display_name": "lazyqsar",
   "language": "python",
   "name": "python3"
  },
  "language_info": {
   "codemirror_mode": {
    "name": "ipython",
    "version": 3
   },
   "file_extension": ".py",
   "mimetype": "text/x-python",
   "name": "python",
   "nbconvert_exporter": "python",
   "pygments_lexer": "ipython3",
   "version": "3.10.11"
  },
  "orig_nbformat": 4
 },
 "nbformat": 4,
 "nbformat_minor": 2
}
