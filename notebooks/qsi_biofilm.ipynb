{
 "cells": [
  {
   "cell_type": "code",
   "execution_count": 1,
   "metadata": {},
   "outputs": [],
   "source": [
    "import os\n",
    "import pandas as pd\n",
    "import numpy as np\n",
    "import matplotlib.pyplot as plt\n",
    "\n",
    "import sys\n",
    "sys.path.append(\"../src\")\n",
    "from smi_processing import standardise_smiles, random_split\n",
    "\n",
    "DATAPATH = \"../data/qsi_biofilm\""
   ]
  },
  {
   "cell_type": "code",
   "execution_count": 2,
   "metadata": {},
   "outputs": [
    {
     "name": "stderr",
     "output_type": "stream",
     "text": [
      "[17:03:05] Explicit valence for atom # 7 N, 4, is greater than permitted\n",
      "[17:03:07] Explicit valence for atom # 29 N, 4, is greater than permitted\n"
     ]
    },
    {
     "name": "stdout",
     "output_type": "stream",
     "text": [
      "(3036, 7)\n",
      "(3021, 7)\n"
     ]
    }
   ],
   "source": [
    "df1 = pd.read_csv(os.path.join(DATAPATH, \"compounds_qsi.csv\"))\n",
    "df2 = pd.read_csv(os.path.join(DATAPATH,\"cidal_qsi.csv\"))\n",
    "df1[\"Inh_growth_ATCC\"] = np.nan\n",
    "df1[\"cidal\"] = 0\n",
    "df2[\"cidal\"] = 1\n",
    "df = pd.concat([df1, df2], ignore_index=True)\n",
    "st_smiles = standardise_smiles(df[\"SMILES\"].tolist())\n",
    "df[\"st_smiles\"]=st_smiles\n",
    "print(df.shape)\n",
    "df.dropna(subset = [\"st_smiles\"], inplace=True)\n",
    "print(df.shape)\n",
    "df.rename(columns={\"QSI (1:Yes/0:No)\": \"qsi\", \"ID\": \"id\"}, inplace=True)\n",
    "df.drop(columns=\"SMILES\", inplace=True)\n",
    "df.to_csv(os.path.join(DATAPATH, \"qsi_master.csv\"), index=False)"
   ]
  },
  {
   "cell_type": "code",
   "execution_count": 2,
   "metadata": {},
   "outputs": [
    {
     "data": {
      "text/plain": [
       "(3021, 6)"
      ]
     },
     "execution_count": 2,
     "metadata": {},
     "output_type": "execute_result"
    }
   ],
   "source": [
    "df = pd.read_csv(os.path.join(DATAPATH, \"qsi_master.csv\"))\n",
    "df.shape"
   ]
  },
  {
   "cell_type": "code",
   "execution_count": 3,
   "metadata": {},
   "outputs": [
    {
     "name": "stdout",
     "output_type": "stream",
     "text": [
      "689\n",
      "689\n"
     ]
    }
   ],
   "source": [
    "print(len(df[(df[\"cidal\"]==0)&(df[\"qsi\"]==1)]))\n",
    "print(len(df[df[\"qsi\"]==1]))"
   ]
  },
  {
   "cell_type": "code",
   "execution_count": 4,
   "metadata": {},
   "outputs": [
    {
     "name": "stdout",
     "output_type": "stream",
     "text": [
      "2535\n"
     ]
    }
   ],
   "source": [
    "df_ = df[df[\"cidal\"]==0]\n",
    "print(len(df_))\n",
    "df_ = df_[[\"id\", \"st_smiles\", \"qsi\"]]\n",
    "df_.rename(columns = {\"qsi\": \"bin\"}, inplace=True)\n",
    "df_.to_csv(os.path.join(DATAPATH, \"qsi_only_bin.csv\"), index=False)"
   ]
  },
  {
   "cell_type": "code",
   "execution_count": 5,
   "metadata": {},
   "outputs": [
    {
     "name": "stderr",
     "output_type": "stream",
     "text": [
      "/tmp/ipykernel_1627963/842043928.py:2: SettingWithCopyWarning: \n",
      "A value is trying to be set on a copy of a slice from a DataFrame\n",
      "\n",
      "See the caveats in the documentation: https://pandas.pydata.org/pandas-docs/stable/user_guide/indexing.html#returning-a-view-versus-a-copy\n",
      "  df_.rename(columns = {\"qsi\": \"bin\"}, inplace=True)\n"
     ]
    }
   ],
   "source": [
    "df_ = df[[\"id\", \"st_smiles\", \"qsi\"]]\n",
    "df_.rename(columns = {\"qsi\": \"bin\"}, inplace=True)\n",
    "df_.to_csv(os.path.join(DATAPATH, \"qsi_cidal_bin.csv\"), index=False)"
   ]
  },
  {
   "attachments": {},
   "cell_type": "markdown",
   "metadata": {},
   "source": [
    "## Prepare for modelling"
   ]
  },
  {
   "cell_type": "code",
   "execution_count": 6,
   "metadata": {},
   "outputs": [],
   "source": [
    "df = pd.read_csv(os.path.join(DATAPATH, \"qsi_only_bin.csv\"))\n",
    "for i in range(1,6):\n",
    "    train, test  = random_split(df, 0.2)\n",
    "    train.to_csv(os.path.join(DATAPATH, \"train_test_splits\", \"qsi_only_train_{}.csv\".format(i)), index=False)\n",
    "    test.to_csv(os.path.join(DATAPATH, \"train_test_splits\", \"qsi_only_test_{}.csv\".format(i)), index=False)"
   ]
  },
  {
   "cell_type": "code",
   "execution_count": 7,
   "metadata": {},
   "outputs": [],
   "source": [
    "df = pd.read_csv(os.path.join(DATAPATH, \"qsi_cidal_bin.csv\"))\n",
    "for i in range(1,6):\n",
    "    train, test  = random_split(df, 0.2)\n",
    "    train.to_csv(os.path.join(DATAPATH, \"train_test_splits\", \"qsi_cidal_train_{}.csv\".format(i)), index=False)\n",
    "    test.to_csv(os.path.join(DATAPATH, \"train_test_splits\", \"qsi_cidal_test_{}.csv\".format(i)), index=False)"
   ]
  }
 ],
 "metadata": {
  "kernelspec": {
   "display_name": "lazyqsar",
   "language": "python",
   "name": "python3"
  },
  "language_info": {
   "codemirror_mode": {
    "name": "ipython",
    "version": 3
   },
   "file_extension": ".py",
   "mimetype": "text/x-python",
   "name": "python",
   "nbconvert_exporter": "python",
   "pygments_lexer": "ipython3",
   "version": "3.10.11"
  },
  "orig_nbformat": 4
 },
 "nbformat": 4,
 "nbformat_minor": 2
}
