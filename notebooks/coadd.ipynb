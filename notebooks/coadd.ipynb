{
 "cells": [
  {
   "attachments": {},
   "cell_type": "markdown",
   "id": "swedish-peeing",
   "metadata": {},
   "source": [
    "# Modeling ESKAPE pathogens inhibition"
   ]
  },
  {
   "cell_type": "code",
   "execution_count": 2,
   "id": "variable-yukon",
   "metadata": {},
   "outputs": [],
   "source": [
    "import pandas as pd\n",
    "import os\n",
    "\n",
    "DATAPATH = \"../data/coadd\"\n",
    "\n",
    "df = pd.read_csv(os.path.join(DATAPATH, \"CO-ADD_InhibitionData_r03_01-02-2020_CSV.csv\"), low_memory=False)"
   ]
  },
  {
   "cell_type": "code",
   "execution_count": 2,
   "id": "aging-lender",
   "metadata": {},
   "outputs": [],
   "source": [
    "import collections\n",
    "\n",
    "data_conc = collections.defaultdict(list)\n",
    "\n",
    "for r in df[[\"ORGANISM\", \"STRAIN\", \"CONC\", \"SMILES\", \"INHIB_AVE\"]].values:\n",
    "    data_conc[(r[0], r[1], r[2])] += [(r[3], r[4])]"
   ]
  },
  {
   "cell_type": "code",
   "execution_count": 3,
   "id": "equivalent-driving",
   "metadata": {},
   "outputs": [],
   "source": [
    "selected_strains = set([\n",
    "    ('Escherichia coli', 'lpxC; MB4902'),\n",
    "    ('Escherichia coli', 'tolC; MB5747'),\n",
    "    ('Staphylococcus aureus', 'ATCC 43300; MRSA'),\n",
    "    ('Candida albicans', 'ATCC 90028'),\n",
    "    ('Cryptococcus neoformans', 'ATCC 208821; H99'),\n",
    "    ('Escherichia coli', 'ATCC 25922'),\n",
    "    ('Klebsiella pneumoniae', 'ATCC 700603; MDR'),\n",
    "    ('Acinetobacter baumannii', 'ATCC 19606'),\n",
    "    ('Pseudomonas aeruginosa', 'ATCC 27853')\n",
    "])\n",
    "\n",
    "selected_concentration = '32 ug/mL'"
   ]
  },
  {
   "cell_type": "code",
   "execution_count": 10,
   "id": "stock-residence",
   "metadata": {},
   "outputs": [],
   "source": [
    "data = {}\n",
    "for k,v in data_conc.items():\n",
    "    if k[-1] != selected_concentration:\n",
    "        continue\n",
    "    if (k[0], k[1]) not in selected_strains:\n",
    "        continue\n",
    "    data[(k[0], k[1])] = v"
   ]
  },
  {
   "cell_type": "code",
   "execution_count": 14,
   "id": "emotional-costume",
   "metadata": {},
   "outputs": [],
   "source": [
    "import os\n",
    "import csv\n",
    "\n",
    "names = {\n",
    "    \"ecoli_lpxc\": ('Escherichia coli', 'lpxC; MB4902'),\n",
    "    \"ecoli_tolc\": ('Escherichia coli', 'tolC; MB5747'),\n",
    "    \"saureus\": ('Staphylococcus aureus', 'ATCC 43300; MRSA'),\n",
    "    \"calbicans\": ('Candida albicans', 'ATCC 90028'),\n",
    "    \"cneoformans\": ('Cryptococcus neoformans', 'ATCC 208821; H99'),\n",
    "    \"ecoli_atcc\": ('Escherichia coli', 'ATCC 25922'),\n",
    "    \"kpneumoniae\": ('Klebsiella pneumoniae', 'ATCC 700603; MDR'),\n",
    "    \"abaumannii\": ('Acinetobacter baumannii', 'ATCC 19606'),\n",
    "    \"paeruginosa\": ('Pseudomonas aeruginosa', 'ATCC 27853')\n",
    "}\n",
    "\n",
    "names_inv = dict((v,k) for k,v in names.items())\n",
    "\n",
    "\n",
    "for k,v in data.items():\n",
    "    fn = names_inv[k]\n",
    "    with open(os.path.join(DATAPATH, fn+\".csv\"), \"w\") as f:\n",
    "        writer = csv.writer(f)\n",
    "        writer.writerow([\"smiles\", \"inhibition\"])\n",
    "        for x in v:\n",
    "            writer.writerow([x[0], float(x[1])])"
   ]
  }
 ],
 "metadata": {
  "kernelspec": {
   "display_name": "Python 3.7.11 ('chemistry')",
   "language": "python",
   "name": "python3"
  },
  "language_info": {
   "codemirror_mode": {
    "name": "ipython",
    "version": 3
   },
   "file_extension": ".py",
   "mimetype": "text/x-python",
   "name": "python",
   "nbconvert_exporter": "python",
   "pygments_lexer": "ipython3",
   "version": "3.7.11"
  },
  "vscode": {
   "interpreter": {
    "hash": "a5ba2f1452682855ccf4135cb16ab3fe285c3388d1e3e2e119f7a866d80e2677"
   }
  }
 },
 "nbformat": 4,
 "nbformat_minor": 5
}
